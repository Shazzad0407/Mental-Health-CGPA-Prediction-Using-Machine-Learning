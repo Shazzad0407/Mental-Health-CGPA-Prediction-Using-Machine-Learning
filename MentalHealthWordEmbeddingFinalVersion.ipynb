{
  "nbformat": 4,
  "nbformat_minor": 0,
  "metadata": {
    "colab": {
      "name": "Psycological_And_Mental_Atrributes_Prediction_From_Facebook.ipynb",
      "version": "0.3.2",
      "provenance": [],
      "collapsed_sections": [
        "kWZRysdtGLqM"
      ],
      "toc_visible": true,
      "machine_shape": "hm",
      "include_colab_link": true
    },
    "kernelspec": {
      "name": "python3",
      "display_name": "Python 3"
    },
    "accelerator": "GPU"
  },
  "cells": [
    {
      "cell_type": "markdown",
      "metadata": {
        "id": "view-in-github",
        "colab_type": "text"
      },
      "source": [
        "<a href=\"https://colab.research.google.com/github/Shazzad0407/Mental-Health-CGPA-Prediction-Using-Machine-Learning/blob/master/MentalHealthWordEmbeddingFinalVersion.ipynb\" target=\"_parent\"><img src=\"https://colab.research.google.com/assets/colab-badge.svg\" alt=\"Open In Colab\"/></a>"
      ]
    },
    {
      "cell_type": "code",
      "metadata": {
        "id": "NnDhPJv8C9fH",
        "colab_type": "code",
        "outputId": "1077519b-3475-4785-a271-c49c139177ee",
        "colab": {
          "base_uri": "https://localhost:8080/",
          "height": 34
        }
      },
      "source": [
        "!pip uninstall tensorflow-gpu  #(run only once)"
      ],
      "execution_count": 0,
      "outputs": [
        {
          "output_type": "stream",
          "text": [
            "\u001b[33mWARNING: Skipping tensorflow-gpu as it is not installed.\u001b[0m\n"
          ],
          "name": "stdout"
        }
      ]
    },
    {
      "cell_type": "code",
      "metadata": {
        "id": "vt7W5_dINpJJ",
        "colab_type": "code",
        "outputId": "d295071c-21a2-4e9d-a2b3-0b32127ab73d",
        "colab": {
          "base_uri": "https://localhost:8080/",
          "height": 1000
        }
      },
      "source": [
        "#for elmo word embedding (run only once)\n",
        "!pip install tensorflow-hub\n",
        "!pip install --upgrade tensorflow-gpu\n",
        "# For the latest nightly build:\n",
        "!pip install tf-nightly\n"
      ],
      "execution_count": 0,
      "outputs": [
        {
          "output_type": "stream",
          "text": [
            "Requirement already satisfied: tensorflow-hub in /usr/local/lib/python3.6/dist-packages (0.5.0)\n",
            "Requirement already satisfied: protobuf>=3.4.0 in /usr/local/lib/python3.6/dist-packages (from tensorflow-hub) (3.7.1)\n",
            "Requirement already satisfied: six>=1.10.0 in /usr/local/lib/python3.6/dist-packages (from tensorflow-hub) (1.12.0)\n",
            "Requirement already satisfied: numpy>=1.12.0 in /usr/local/lib/python3.6/dist-packages (from tensorflow-hub) (1.16.4)\n",
            "Requirement already satisfied: setuptools in /usr/local/lib/python3.6/dist-packages (from protobuf>=3.4.0->tensorflow-hub) (41.2.0)\n",
            "Collecting tensorflow-gpu\n",
            "\u001b[?25l  Downloading https://files.pythonhosted.org/packages/76/04/43153bfdfcf6c9a4c38ecdb971ca9a75b9a791bb69a764d652c359aca504/tensorflow_gpu-1.14.0-cp36-cp36m-manylinux1_x86_64.whl (377.0MB)\n",
            "\u001b[K     |████████████████████████████████| 377.0MB 113kB/s \n",
            "\u001b[?25hRequirement already satisfied, skipping upgrade: google-pasta>=0.1.6 in /usr/local/lib/python3.6/dist-packages (from tensorflow-gpu) (0.1.7)\n",
            "Requirement already satisfied, skipping upgrade: wrapt>=1.11.1 in /usr/local/lib/python3.6/dist-packages (from tensorflow-gpu) (1.11.2)\n",
            "Requirement already satisfied, skipping upgrade: tensorboard<1.15.0,>=1.14.0 in /usr/local/lib/python3.6/dist-packages (from tensorflow-gpu) (1.14.0)\n",
            "Requirement already satisfied, skipping upgrade: six>=1.10.0 in /usr/local/lib/python3.6/dist-packages (from tensorflow-gpu) (1.12.0)\n",
            "Requirement already satisfied, skipping upgrade: termcolor>=1.1.0 in /usr/local/lib/python3.6/dist-packages (from tensorflow-gpu) (1.1.0)\n",
            "Requirement already satisfied, skipping upgrade: keras-applications>=1.0.6 in /usr/local/lib/python3.6/dist-packages (from tensorflow-gpu) (1.0.8)\n",
            "Requirement already satisfied, skipping upgrade: keras-preprocessing>=1.0.5 in /usr/local/lib/python3.6/dist-packages (from tensorflow-gpu) (1.1.0)\n",
            "Requirement already satisfied, skipping upgrade: gast>=0.2.0 in /usr/local/lib/python3.6/dist-packages (from tensorflow-gpu) (0.2.2)\n",
            "Requirement already satisfied, skipping upgrade: astor>=0.6.0 in /usr/local/lib/python3.6/dist-packages (from tensorflow-gpu) (0.8.0)\n",
            "Requirement already satisfied, skipping upgrade: numpy<2.0,>=1.14.5 in /usr/local/lib/python3.6/dist-packages (from tensorflow-gpu) (1.16.4)\n",
            "Requirement already satisfied, skipping upgrade: wheel>=0.26 in /usr/local/lib/python3.6/dist-packages (from tensorflow-gpu) (0.33.4)\n",
            "Requirement already satisfied, skipping upgrade: absl-py>=0.7.0 in /usr/local/lib/python3.6/dist-packages (from tensorflow-gpu) (0.7.1)\n",
            "Requirement already satisfied, skipping upgrade: tensorflow-estimator<1.15.0rc0,>=1.14.0rc0 in /usr/local/lib/python3.6/dist-packages (from tensorflow-gpu) (1.14.0)\n",
            "Requirement already satisfied, skipping upgrade: protobuf>=3.6.1 in /usr/local/lib/python3.6/dist-packages (from tensorflow-gpu) (3.7.1)\n",
            "Requirement already satisfied, skipping upgrade: grpcio>=1.8.6 in /usr/local/lib/python3.6/dist-packages (from tensorflow-gpu) (1.15.0)\n",
            "Requirement already satisfied, skipping upgrade: setuptools>=41.0.0 in /usr/local/lib/python3.6/dist-packages (from tensorboard<1.15.0,>=1.14.0->tensorflow-gpu) (41.2.0)\n",
            "Requirement already satisfied, skipping upgrade: markdown>=2.6.8 in /usr/local/lib/python3.6/dist-packages (from tensorboard<1.15.0,>=1.14.0->tensorflow-gpu) (3.1.1)\n",
            "Requirement already satisfied, skipping upgrade: werkzeug>=0.11.15 in /usr/local/lib/python3.6/dist-packages (from tensorboard<1.15.0,>=1.14.0->tensorflow-gpu) (0.15.5)\n",
            "Requirement already satisfied, skipping upgrade: h5py in /usr/local/lib/python3.6/dist-packages (from keras-applications>=1.0.6->tensorflow-gpu) (2.8.0)\n",
            "Installing collected packages: tensorflow-gpu\n",
            "Successfully installed tensorflow-gpu-1.14.0\n",
            "Collecting tf-nightly\n",
            "\u001b[?25l  Downloading https://files.pythonhosted.org/packages/3f/4d/29da385b6ebcf100419d597d8caabd1c8b1cb5670529f8ab15d2829e0cbe/tf_nightly-1.15.0.dev20190821-cp36-cp36m-manylinux2010_x86_64.whl (110.8MB)\n",
            "\u001b[K     |████████████████████████████████| 110.8MB 83.2MB/s \n",
            "\u001b[?25hRequirement already satisfied: keras-applications>=1.0.8 in /usr/local/lib/python3.6/dist-packages (from tf-nightly) (1.0.8)\n",
            "Requirement already satisfied: absl-py>=0.7.0 in /usr/local/lib/python3.6/dist-packages (from tf-nightly) (0.7.1)\n",
            "Requirement already satisfied: six>=1.10.0 in /usr/local/lib/python3.6/dist-packages (from tf-nightly) (1.12.0)\n",
            "Requirement already satisfied: protobuf>=3.6.1 in /usr/local/lib/python3.6/dist-packages (from tf-nightly) (3.7.1)\n",
            "Requirement already satisfied: termcolor>=1.1.0 in /usr/local/lib/python3.6/dist-packages (from tf-nightly) (1.1.0)\n",
            "Requirement already satisfied: wheel>=0.26 in /usr/local/lib/python3.6/dist-packages (from tf-nightly) (0.33.4)\n",
            "Collecting tb-nightly<1.16.0a0,>=1.15.0a0 (from tf-nightly)\n",
            "\u001b[?25l  Downloading https://files.pythonhosted.org/packages/2d/80/3e4ed4e36f59c78f4bc84f44245d33462a1ae14e8a9ef15a2e72618de4ea/tb_nightly-1.15.0a20190826-py3-none-any.whl (3.8MB)\n",
            "\u001b[K     |████████████████████████████████| 3.8MB 26.3MB/s \n",
            "\u001b[?25hRequirement already satisfied: astor>=0.6.0 in /usr/local/lib/python3.6/dist-packages (from tf-nightly) (0.8.0)\n",
            "Requirement already satisfied: gast>=0.2.0 in /usr/local/lib/python3.6/dist-packages (from tf-nightly) (0.2.2)\n",
            "Requirement already satisfied: numpy<2.0,>=1.16.0 in /usr/local/lib/python3.6/dist-packages (from tf-nightly) (1.16.4)\n",
            "Collecting tf-estimator-nightly (from tf-nightly)\n",
            "\u001b[?25l  Downloading https://files.pythonhosted.org/packages/d3/7c/3cd6affb5fec57e55be17a595d92316d53b365c081df7bef8a565e574d9e/tf_estimator_nightly-1.14.0.dev2019082101-py2.py3-none-any.whl (502kB)\n",
            "\u001b[K     |████████████████████████████████| 512kB 55.6MB/s \n",
            "\u001b[?25hCollecting opt-einsum>=2.3.2 (from tf-nightly)\n",
            "\u001b[?25l  Downloading https://files.pythonhosted.org/packages/c0/1a/ab5683d8e450e380052d3a3e77bb2c9dffa878058f583587c3875041fb63/opt_einsum-3.0.1.tar.gz (66kB)\n",
            "\u001b[K     |████████████████████████████████| 71kB 24.1MB/s \n",
            "\u001b[?25hRequirement already satisfied: wrapt>=1.11.1 in /usr/local/lib/python3.6/dist-packages (from tf-nightly) (1.11.2)\n",
            "Requirement already satisfied: keras-preprocessing>=1.0.5 in /usr/local/lib/python3.6/dist-packages (from tf-nightly) (1.1.0)\n",
            "Requirement already satisfied: google-pasta>=0.1.6 in /usr/local/lib/python3.6/dist-packages (from tf-nightly) (0.1.7)\n",
            "Requirement already satisfied: grpcio>=1.8.6 in /usr/local/lib/python3.6/dist-packages (from tf-nightly) (1.15.0)\n",
            "Requirement already satisfied: h5py in /usr/local/lib/python3.6/dist-packages (from keras-applications>=1.0.8->tf-nightly) (2.8.0)\n",
            "Requirement already satisfied: setuptools in /usr/local/lib/python3.6/dist-packages (from protobuf>=3.6.1->tf-nightly) (41.2.0)\n",
            "Requirement already satisfied: markdown>=2.6.8 in /usr/local/lib/python3.6/dist-packages (from tb-nightly<1.16.0a0,>=1.15.0a0->tf-nightly) (3.1.1)\n",
            "Requirement already satisfied: werkzeug>=0.11.15 in /usr/local/lib/python3.6/dist-packages (from tb-nightly<1.16.0a0,>=1.15.0a0->tf-nightly) (0.15.5)\n",
            "Building wheels for collected packages: opt-einsum\n",
            "  Building wheel for opt-einsum (setup.py) ... \u001b[?25l\u001b[?25hdone\n",
            "  Created wheel for opt-einsum: filename=opt_einsum-3.0.1-cp36-none-any.whl size=58500 sha256=3947745af966b2ba9b30dacf304db3d836715f4112056fdf4209bc043b02e4aa\n",
            "  Stored in directory: /root/.cache/pip/wheels/91/98/8d/10e3d4e04c959597a411b91acd3695e9e2d210e68ce3427aad\n",
            "Successfully built opt-einsum\n",
            "Installing collected packages: tb-nightly, tf-estimator-nightly, opt-einsum, tf-nightly\n",
            "Successfully installed opt-einsum-3.0.1 tb-nightly-1.15.0a20190826 tf-estimator-nightly-1.14.0.dev2019082101 tf-nightly-1.15.0.dev20190821\n"
          ],
          "name": "stdout"
        }
      ]
    },
    {
      "cell_type": "code",
      "metadata": {
        "id": "4rgvSWG75pQh",
        "colab_type": "code",
        "outputId": "1dda5d31-2fee-444a-b18e-890ca898bd7e",
        "colab": {
          "base_uri": "https://localhost:8080/",
          "height": 122
        }
      },
      "source": [
        "#mount google drive\n",
        "from google.colab import drive\n",
        "drive.mount('/content/drive')"
      ],
      "execution_count": 0,
      "outputs": [
        {
          "output_type": "stream",
          "text": [
            "Go to this URL in a browser: https://accounts.google.com/o/oauth2/auth?client_id=947318989803-6bn6qk8qdgf4n4g3pfee6491hc0brc4i.apps.googleusercontent.com&redirect_uri=urn%3Aietf%3Awg%3Aoauth%3A2.0%3Aoob&scope=email%20https%3A%2F%2Fwww.googleapis.com%2Fauth%2Fdocs.test%20https%3A%2F%2Fwww.googleapis.com%2Fauth%2Fdrive%20https%3A%2F%2Fwww.googleapis.com%2Fauth%2Fdrive.photos.readonly%20https%3A%2F%2Fwww.googleapis.com%2Fauth%2Fpeopleapi.readonly&response_type=code\n",
            "\n",
            "Enter your authorization code:\n",
            "··········\n",
            "Mounted at /content/drive\n"
          ],
          "name": "stdout"
        }
      ]
    },
    {
      "cell_type": "code",
      "metadata": {
        "id": "vaxG2upuIFM1",
        "colab_type": "code",
        "outputId": "2ebe355e-1918-4721-82c4-09183f2b3e4d",
        "colab": {
          "base_uri": "https://localhost:8080/",
          "height": 34
        }
      },
      "source": [
        "#change directory \n",
        "cd drive/My Drive"
      ],
      "execution_count": 0,
      "outputs": [
        {
          "output_type": "stream",
          "text": [
            "/content/drive/My Drive\n"
          ],
          "name": "stdout"
        }
      ]
    },
    {
      "cell_type": "markdown",
      "metadata": {
        "id": "KdV0VlyvEERu",
        "colab_type": "text"
      },
      "source": [
        "# **Import necessary libray and Data**"
      ]
    },
    {
      "cell_type": "code",
      "metadata": {
        "id": "rOTPKZLBIMvH",
        "colab_type": "code",
        "outputId": "af1db7c8-e969-49fc-8382-941cfb04b933",
        "colab": {
          "base_uri": "https://localhost:8080/",
          "height": 34
        }
      },
      "source": [
        "%matplotlib inline\n",
        "import matplotlib.pyplot as plt\n",
        "import tensorflow as tf\n",
        "import pandas as pd\n",
        "import numpy as np\n",
        "import spacy\n",
        "import random\n",
        "from sklearn.model_selection import train_test_split\n",
        "from scipy.spatial.distance import cdist\n",
        "\n",
        "# from tf.keras.models import Sequential  # This does not work!\n",
        "from tensorflow.python.keras.models import Sequential\n",
        "from tensorflow.python.keras.layers import Dense, GRU, Embedding, Dropout, LSTM, Bidirectional,TimeDistributed\n",
        "from tensorflow.python.keras.optimizers import Adam\n",
        "from tensorflow.python.keras.optimizers import SGD\n",
        "from tensorflow.python.keras.preprocessing.text import Tokenizer\n",
        "from tensorflow.python.keras.preprocessing.sequence import pad_sequences\n",
        "\n",
        "#for encoding\n",
        "from sklearn.preprocessing import LabelEncoder\n",
        "from keras.utils import np_utils"
      ],
      "execution_count": 0,
      "outputs": [
        {
          "output_type": "stream",
          "text": [
            "Using TensorFlow backend.\n"
          ],
          "name": "stderr"
        }
      ]
    },
    {
      "cell_type": "code",
      "metadata": {
        "id": "NjPP1Zt9Ou6q",
        "colab_type": "code",
        "outputId": "f7e50010-dcd4-4524-cf47-9a7cd38e6dad",
        "colab": {
          "base_uri": "https://localhost:8080/",
          "height": 204
        }
      },
      "source": [
        "url ='mentalHealthAllData.csv'\n",
        "df = pd.read_csv(url,encoding='latin1')     #read data from the link\n",
        "df.head()"
      ],
      "execution_count": 0,
      "outputs": [
        {
          "output_type": "execute_result",
          "data": {
            "text/html": [
              "<div>\n",
              "<style scoped>\n",
              "    .dataframe tbody tr th:only-of-type {\n",
              "        vertical-align: middle;\n",
              "    }\n",
              "\n",
              "    .dataframe tbody tr th {\n",
              "        vertical-align: top;\n",
              "    }\n",
              "\n",
              "    .dataframe thead th {\n",
              "        text-align: right;\n",
              "    }\n",
              "</style>\n",
              "<table border=\"1\" class=\"dataframe\">\n",
              "  <thead>\n",
              "    <tr style=\"text-align: right;\">\n",
              "      <th></th>\n",
              "      <th>Student id</th>\n",
              "      <th>DI</th>\n",
              "      <th>PSS</th>\n",
              "      <th>GSE</th>\n",
              "      <th>Ex</th>\n",
              "      <th>A</th>\n",
              "      <th>C</th>\n",
              "      <th>E</th>\n",
              "      <th>O</th>\n",
              "      <th>CGPA</th>\n",
              "      <th>Facebook_Data</th>\n",
              "      <th>Unnamed: 11</th>\n",
              "    </tr>\n",
              "  </thead>\n",
              "  <tbody>\n",
              "    <tr>\n",
              "      <th>0</th>\n",
              "      <td>11133054</td>\n",
              "      <td>22</td>\n",
              "      <td>35</td>\n",
              "      <td>24</td>\n",
              "      <td>3.5</td>\n",
              "      <td>4.5</td>\n",
              "      <td>2.5</td>\n",
              "      <td>5.5</td>\n",
              "      <td>5.0</td>\n",
              "      <td>1.97</td>\n",
              "      <td>in restless dreams I walked alone narrow stree...</td>\n",
              "      <td>NaN</td>\n",
              "    </tr>\n",
              "    <tr>\n",
              "      <th>1</th>\n",
              "      <td>11141049</td>\n",
              "      <td>19</td>\n",
              "      <td>23</td>\n",
              "      <td>28</td>\n",
              "      <td>4.0</td>\n",
              "      <td>4.5</td>\n",
              "      <td>4.0</td>\n",
              "      <td>3.0</td>\n",
              "      <td>4.5</td>\n",
              "      <td>1.90</td>\n",
              "      <td>goal goal goal  !! &lt;3  from croatia with love ...</td>\n",
              "      <td>NaN</td>\n",
              "    </tr>\n",
              "    <tr>\n",
              "      <th>2</th>\n",
              "      <td>11141152</td>\n",
              "      <td>18</td>\n",
              "      <td>24</td>\n",
              "      <td>31</td>\n",
              "      <td>5.0</td>\n",
              "      <td>3.0</td>\n",
              "      <td>7.0</td>\n",
              "      <td>1.5</td>\n",
              "      <td>6.0</td>\n",
              "      <td>2.09</td>\n",
              "      <td>190 years of rcs fun_masti togatherness awesom...</td>\n",
              "      <td>NaN</td>\n",
              "    </tr>\n",
              "    <tr>\n",
              "      <th>3</th>\n",
              "      <td>11143094</td>\n",
              "      <td>28</td>\n",
              "      <td>34</td>\n",
              "      <td>22</td>\n",
              "      <td>5.5</td>\n",
              "      <td>7.0</td>\n",
              "      <td>3.5</td>\n",
              "      <td>4.0</td>\n",
              "      <td>5.0</td>\n",
              "      <td>1.39</td>\n",
              "      <td>game of thrones\\nthey just never stop being a ...</td>\n",
              "      <td>NaN</td>\n",
              "    </tr>\n",
              "    <tr>\n",
              "      <th>4</th>\n",
              "      <td>11151121</td>\n",
              "      <td>43</td>\n",
              "      <td>47</td>\n",
              "      <td>30</td>\n",
              "      <td>5.0</td>\n",
              "      <td>3.5</td>\n",
              "      <td>7.0</td>\n",
              "      <td>6.5</td>\n",
              "      <td>4.5</td>\n",
              "      <td>3.56</td>\n",
              "      <td>I am gonna die alone. no career  no love  no l...</td>\n",
              "      <td>NaN</td>\n",
              "    </tr>\n",
              "  </tbody>\n",
              "</table>\n",
              "</div>"
            ],
            "text/plain": [
              "   Student id  ...  Unnamed: 11\n",
              "0    11133054  ...          NaN\n",
              "1    11141049  ...          NaN\n",
              "2    11141152  ...          NaN\n",
              "3    11143094  ...          NaN\n",
              "4    11151121  ...          NaN\n",
              "\n",
              "[5 rows x 12 columns]"
            ]
          },
          "metadata": {
            "tags": []
          },
          "execution_count": 4
        }
      ]
    },
    {
      "cell_type": "markdown",
      "metadata": {
        "id": "2BldFVuqETtS",
        "colab_type": "text"
      },
      "source": [
        "### **Remove those instances which do not have any fb data**"
      ]
    },
    {
      "cell_type": "code",
      "metadata": {
        "id": "hdFqOuL-f63n",
        "colab_type": "code",
        "outputId": "64bd7c27-bc7e-48d1-9f07-18db1aacddf2",
        "colab": {
          "base_uri": "https://localhost:8080/",
          "height": 34
        }
      },
      "source": [
        "df = df[pd.notnull(df['Facebook_Data'])]\n",
        "df.shape"
      ],
      "execution_count": 0,
      "outputs": [
        {
          "output_type": "execute_result",
          "data": {
            "text/plain": [
              "(80, 12)"
            ]
          },
          "metadata": {
            "tags": []
          },
          "execution_count": 5
        }
      ]
    },
    {
      "cell_type": "markdown",
      "metadata": {
        "id": "NLsQrKmmEqlq",
        "colab_type": "text"
      },
      "source": [
        "# Apply Some Cleaning Function to FB data "
      ]
    },
    {
      "cell_type": "code",
      "metadata": {
        "id": "s6npdqptk7Lp",
        "colab_type": "code",
        "colab": {}
      },
      "source": [
        "# remove punctuation marks\n",
        "punctuation = '!\"#$%&*/;=?@[\\\\]`{|}~'\n",
        "\n",
        "df['clean_fb_data'] = df['Facebook_Data'].apply(lambda x: ''.join(ch for ch in x if ch not in set(punctuation)))\n",
        "\n",
        "# remove whitespaces\n",
        "df['clean_fb_data'] = df['clean_fb_data'].apply(lambda x:' '.join(x.split()))"
      ],
      "execution_count": 0,
      "outputs": []
    },
    {
      "cell_type": "code",
      "metadata": {
        "id": "-5ZEcl1woiuT",
        "colab_type": "code",
        "colab": {}
      },
      "source": [
        "#We will lemmatize (normalize) the text by leveraging the popular spaCy library.\n",
        "# import spaCy's language model\n",
        "nlp = spacy.load('en', disable=['parser', 'ner'])\n",
        "\n",
        "# function to lemmatize text\n",
        "def lemmatization(texts):\n",
        "    output = []\n",
        "    for i in texts:\n",
        "        s = [token.lemma_ for token in nlp(i)]\n",
        "        output.append(' '.join(s))\n",
        "    return output"
      ],
      "execution_count": 0,
      "outputs": []
    },
    {
      "cell_type": "code",
      "metadata": {
        "id": "OhIbD6JEmqUf",
        "colab_type": "code",
        "outputId": "400163d1-4966-4c93-b027-6ab9f332341b",
        "colab": {
          "base_uri": "https://localhost:8080/",
          "height": 204
        }
      },
      "source": [
        "df['clean_fb_data'] = lemmatization(df['clean_fb_data'])\n",
        "df.head()\n"
      ],
      "execution_count": 0,
      "outputs": [
        {
          "output_type": "execute_result",
          "data": {
            "text/html": [
              "<div>\n",
              "<style scoped>\n",
              "    .dataframe tbody tr th:only-of-type {\n",
              "        vertical-align: middle;\n",
              "    }\n",
              "\n",
              "    .dataframe tbody tr th {\n",
              "        vertical-align: top;\n",
              "    }\n",
              "\n",
              "    .dataframe thead th {\n",
              "        text-align: right;\n",
              "    }\n",
              "</style>\n",
              "<table border=\"1\" class=\"dataframe\">\n",
              "  <thead>\n",
              "    <tr style=\"text-align: right;\">\n",
              "      <th></th>\n",
              "      <th>Student id</th>\n",
              "      <th>DI</th>\n",
              "      <th>PSS</th>\n",
              "      <th>GSE</th>\n",
              "      <th>Ex</th>\n",
              "      <th>A</th>\n",
              "      <th>C</th>\n",
              "      <th>E</th>\n",
              "      <th>O</th>\n",
              "      <th>CGPA</th>\n",
              "      <th>Facebook_Data</th>\n",
              "      <th>Unnamed: 11</th>\n",
              "      <th>clean_fb_data</th>\n",
              "    </tr>\n",
              "  </thead>\n",
              "  <tbody>\n",
              "    <tr>\n",
              "      <th>0</th>\n",
              "      <td>11133054</td>\n",
              "      <td>22</td>\n",
              "      <td>35</td>\n",
              "      <td>24</td>\n",
              "      <td>3.5</td>\n",
              "      <td>4.5</td>\n",
              "      <td>2.5</td>\n",
              "      <td>5.5</td>\n",
              "      <td>5.0</td>\n",
              "      <td>1.97</td>\n",
              "      <td>in restless dreams I walked alone narrow stree...</td>\n",
              "      <td>NaN</td>\n",
              "      <td>in restless dream -PRON- walk alone narrow str...</td>\n",
              "    </tr>\n",
              "    <tr>\n",
              "      <th>1</th>\n",
              "      <td>11141049</td>\n",
              "      <td>19</td>\n",
              "      <td>23</td>\n",
              "      <td>28</td>\n",
              "      <td>4.0</td>\n",
              "      <td>4.5</td>\n",
              "      <td>4.0</td>\n",
              "      <td>3.0</td>\n",
              "      <td>4.5</td>\n",
              "      <td>1.90</td>\n",
              "      <td>goal goal goal  !! &lt;3  from croatia with love ...</td>\n",
              "      <td>NaN</td>\n",
              "      <td>goal goal goal &lt;3 from croatia with love &lt;3 :)...</td>\n",
              "    </tr>\n",
              "    <tr>\n",
              "      <th>2</th>\n",
              "      <td>11141152</td>\n",
              "      <td>18</td>\n",
              "      <td>24</td>\n",
              "      <td>31</td>\n",
              "      <td>5.0</td>\n",
              "      <td>3.0</td>\n",
              "      <td>7.0</td>\n",
              "      <td>1.5</td>\n",
              "      <td>6.0</td>\n",
              "      <td>2.09</td>\n",
              "      <td>190 years of rcs fun_masti togatherness awesom...</td>\n",
              "      <td>NaN</td>\n",
              "      <td>190 year of rcs fun_masti togatherness awesome...</td>\n",
              "    </tr>\n",
              "    <tr>\n",
              "      <th>3</th>\n",
              "      <td>11143094</td>\n",
              "      <td>28</td>\n",
              "      <td>34</td>\n",
              "      <td>22</td>\n",
              "      <td>5.5</td>\n",
              "      <td>7.0</td>\n",
              "      <td>3.5</td>\n",
              "      <td>4.0</td>\n",
              "      <td>5.0</td>\n",
              "      <td>1.39</td>\n",
              "      <td>game of thrones\\nthey just never stop being a ...</td>\n",
              "      <td>NaN</td>\n",
              "      <td>game of throne -PRON- just never stop be a mot...</td>\n",
              "    </tr>\n",
              "    <tr>\n",
              "      <th>4</th>\n",
              "      <td>11151121</td>\n",
              "      <td>43</td>\n",
              "      <td>47</td>\n",
              "      <td>30</td>\n",
              "      <td>5.0</td>\n",
              "      <td>3.5</td>\n",
              "      <td>7.0</td>\n",
              "      <td>6.5</td>\n",
              "      <td>4.5</td>\n",
              "      <td>3.56</td>\n",
              "      <td>I am gonna die alone. no career  no love  no l...</td>\n",
              "      <td>NaN</td>\n",
              "      <td>-PRON- be go to die alone . no career no love ...</td>\n",
              "    </tr>\n",
              "  </tbody>\n",
              "</table>\n",
              "</div>"
            ],
            "text/plain": [
              "   Student id  ...                                      clean_fb_data\n",
              "0    11133054  ...  in restless dream -PRON- walk alone narrow str...\n",
              "1    11141049  ...  goal goal goal <3 from croatia with love <3 :)...\n",
              "2    11141152  ...  190 year of rcs fun_masti togatherness awesome...\n",
              "3    11143094  ...  game of throne -PRON- just never stop be a mot...\n",
              "4    11151121  ...  -PRON- be go to die alone . no career no love ...\n",
              "\n",
              "[5 rows x 13 columns]"
            ]
          },
          "metadata": {
            "tags": []
          },
          "execution_count": 8
        }
      ]
    },
    {
      "cell_type": "markdown",
      "metadata": {
        "id": "5gqqjbhEFPy5",
        "colab_type": "text"
      },
      "source": [
        "# **Normalization and Adding label**"
      ]
    },
    {
      "cell_type": "code",
      "metadata": {
        "id": "-wSZ2fIj7-je",
        "colab_type": "code",
        "colab": {}
      },
      "source": [
        "def normalaization():\n",
        "  cols_to_norm = ['DI','PSS','GSE','Ex','A','C','E','O']\n",
        "  df[cols_to_norm] = df[cols_to_norm].apply(lambda x: (x - x.min()) / (x.max() - x.min()))\n",
        "  return\n",
        "\n",
        "\n",
        "def make_label(column,labelHeader):\n",
        "  low = df[column].min()\n",
        "  heigh =df[column].max()\n",
        "  avg = (low+heigh)/2\n",
        "  lowerBound = (low + avg)/2\n",
        "  upperBound = (heigh + avg)/2\n",
        "  df[labelHeader] = df[column].apply(lambda x: 0 if x<=lowerBound else (2 if x>=upperBound else 1))    # low = 0 , medium = 1, heigh = 2\n",
        "  return\n"
      ],
      "execution_count": 0,
      "outputs": []
    },
    {
      "cell_type": "code",
      "metadata": {
        "id": "aB0WUcXZ9HFA",
        "colab_type": "code",
        "outputId": "3b5ea3b6-5ddc-454b-eead-9cc43d712bc5",
        "colab": {
          "base_uri": "https://localhost:8080/",
          "height": 479
        }
      },
      "source": [
        "#call the normalization function\n",
        "normalaization()\n",
        "\n",
        "#give class label to all targeted columns by calling make label function\n",
        "make_label(\"DI\",\"DI_Class\")\n",
        "make_label(\"PSS\",\"PSS_Class\")\n",
        "make_label(\"GSE\",\"GSE_Class\")\n",
        "make_label(\"Ex\",\"Ex_Class\")\n",
        "make_label(\"A\",\"A_Class\")\n",
        "make_label(\"C\",\"C_Class\")\n",
        "make_label(\"E\",\"E_Class\")\n",
        "make_label(\"O\",\"O_Class\")\n",
        "\n",
        "df.head()"
      ],
      "execution_count": 0,
      "outputs": [
        {
          "output_type": "execute_result",
          "data": {
            "text/html": [
              "<div>\n",
              "<style scoped>\n",
              "    .dataframe tbody tr th:only-of-type {\n",
              "        vertical-align: middle;\n",
              "    }\n",
              "\n",
              "    .dataframe tbody tr th {\n",
              "        vertical-align: top;\n",
              "    }\n",
              "\n",
              "    .dataframe thead th {\n",
              "        text-align: right;\n",
              "    }\n",
              "</style>\n",
              "<table border=\"1\" class=\"dataframe\">\n",
              "  <thead>\n",
              "    <tr style=\"text-align: right;\">\n",
              "      <th></th>\n",
              "      <th>Student id</th>\n",
              "      <th>DI</th>\n",
              "      <th>PSS</th>\n",
              "      <th>GSE</th>\n",
              "      <th>Ex</th>\n",
              "      <th>A</th>\n",
              "      <th>C</th>\n",
              "      <th>E</th>\n",
              "      <th>O</th>\n",
              "      <th>CGPA</th>\n",
              "      <th>Facebook_Data</th>\n",
              "      <th>Unnamed: 11</th>\n",
              "      <th>clean_fb_data</th>\n",
              "      <th>DI_Class</th>\n",
              "      <th>PSS_Class</th>\n",
              "      <th>GSE_Class</th>\n",
              "      <th>Ex_Class</th>\n",
              "      <th>A_Class</th>\n",
              "      <th>C_Class</th>\n",
              "      <th>E_Class</th>\n",
              "      <th>O_Class</th>\n",
              "    </tr>\n",
              "  </thead>\n",
              "  <tbody>\n",
              "    <tr>\n",
              "      <th>0</th>\n",
              "      <td>11133054</td>\n",
              "      <td>0.263158</td>\n",
              "      <td>0.594595</td>\n",
              "      <td>0.36</td>\n",
              "      <td>0.416667</td>\n",
              "      <td>0.545455</td>\n",
              "      <td>0.250000</td>\n",
              "      <td>0.750000</td>\n",
              "      <td>0.444444</td>\n",
              "      <td>1.97</td>\n",
              "      <td>in restless dreams I walked alone narrow stree...</td>\n",
              "      <td>NaN</td>\n",
              "      <td>in restless dream -PRON- walk alone narrow str...</td>\n",
              "      <td>1</td>\n",
              "      <td>1</td>\n",
              "      <td>1</td>\n",
              "      <td>1</td>\n",
              "      <td>1</td>\n",
              "      <td>0</td>\n",
              "      <td>2</td>\n",
              "      <td>1</td>\n",
              "    </tr>\n",
              "    <tr>\n",
              "      <th>1</th>\n",
              "      <td>11141049</td>\n",
              "      <td>0.184211</td>\n",
              "      <td>0.270270</td>\n",
              "      <td>0.52</td>\n",
              "      <td>0.500000</td>\n",
              "      <td>0.545455</td>\n",
              "      <td>0.500000</td>\n",
              "      <td>0.333333</td>\n",
              "      <td>0.388889</td>\n",
              "      <td>1.90</td>\n",
              "      <td>goal goal goal  !! &lt;3  from croatia with love ...</td>\n",
              "      <td>NaN</td>\n",
              "      <td>goal goal goal &lt;3 from croatia with love &lt;3 :)...</td>\n",
              "      <td>0</td>\n",
              "      <td>1</td>\n",
              "      <td>1</td>\n",
              "      <td>1</td>\n",
              "      <td>1</td>\n",
              "      <td>1</td>\n",
              "      <td>1</td>\n",
              "      <td>1</td>\n",
              "    </tr>\n",
              "    <tr>\n",
              "      <th>2</th>\n",
              "      <td>11141152</td>\n",
              "      <td>0.157895</td>\n",
              "      <td>0.297297</td>\n",
              "      <td>0.64</td>\n",
              "      <td>0.666667</td>\n",
              "      <td>0.272727</td>\n",
              "      <td>1.000000</td>\n",
              "      <td>0.083333</td>\n",
              "      <td>0.555556</td>\n",
              "      <td>2.09</td>\n",
              "      <td>190 years of rcs fun_masti togatherness awesom...</td>\n",
              "      <td>NaN</td>\n",
              "      <td>190 year of rcs fun_masti togatherness awesome...</td>\n",
              "      <td>0</td>\n",
              "      <td>1</td>\n",
              "      <td>1</td>\n",
              "      <td>1</td>\n",
              "      <td>1</td>\n",
              "      <td>2</td>\n",
              "      <td>0</td>\n",
              "      <td>1</td>\n",
              "    </tr>\n",
              "    <tr>\n",
              "      <th>3</th>\n",
              "      <td>11143094</td>\n",
              "      <td>0.421053</td>\n",
              "      <td>0.567568</td>\n",
              "      <td>0.28</td>\n",
              "      <td>0.750000</td>\n",
              "      <td>1.000000</td>\n",
              "      <td>0.416667</td>\n",
              "      <td>0.500000</td>\n",
              "      <td>0.444444</td>\n",
              "      <td>1.39</td>\n",
              "      <td>game of thrones\\nthey just never stop being a ...</td>\n",
              "      <td>NaN</td>\n",
              "      <td>game of throne -PRON- just never stop be a mot...</td>\n",
              "      <td>1</td>\n",
              "      <td>1</td>\n",
              "      <td>1</td>\n",
              "      <td>2</td>\n",
              "      <td>2</td>\n",
              "      <td>1</td>\n",
              "      <td>1</td>\n",
              "      <td>1</td>\n",
              "    </tr>\n",
              "    <tr>\n",
              "      <th>4</th>\n",
              "      <td>11151121</td>\n",
              "      <td>0.815789</td>\n",
              "      <td>0.918919</td>\n",
              "      <td>0.60</td>\n",
              "      <td>0.666667</td>\n",
              "      <td>0.363636</td>\n",
              "      <td>1.000000</td>\n",
              "      <td>0.916667</td>\n",
              "      <td>0.388889</td>\n",
              "      <td>3.56</td>\n",
              "      <td>I am gonna die alone. no career  no love  no l...</td>\n",
              "      <td>NaN</td>\n",
              "      <td>-PRON- be go to die alone . no career no love ...</td>\n",
              "      <td>2</td>\n",
              "      <td>2</td>\n",
              "      <td>1</td>\n",
              "      <td>1</td>\n",
              "      <td>1</td>\n",
              "      <td>2</td>\n",
              "      <td>2</td>\n",
              "      <td>1</td>\n",
              "    </tr>\n",
              "  </tbody>\n",
              "</table>\n",
              "</div>"
            ],
            "text/plain": [
              "   Student id        DI       PSS   GSE  ...  A_Class  C_Class  E_Class  O_Class\n",
              "0    11133054  0.263158  0.594595  0.36  ...        1        0        2        1\n",
              "1    11141049  0.184211  0.270270  0.52  ...        1        1        1        1\n",
              "2    11141152  0.157895  0.297297  0.64  ...        1        2        0        1\n",
              "3    11143094  0.421053  0.567568  0.28  ...        2        1        1        1\n",
              "4    11151121  0.815789  0.918919  0.60  ...        1        2        2        1\n",
              "\n",
              "[5 rows x 21 columns]"
            ]
          },
          "metadata": {
            "tags": []
          },
          "execution_count": 10
        }
      ]
    },
    {
      "cell_type": "markdown",
      "metadata": {
        "id": "kWZRysdtGLqM",
        "colab_type": "text"
      },
      "source": [
        "# **Elmo Word Embedding**"
      ]
    },
    {
      "cell_type": "code",
      "metadata": {
        "id": "UILp4mKN-ZIS",
        "colab_type": "code",
        "outputId": "df08f8fd-e3b5-4f4d-fca7-8670fd27507c",
        "colab": {
          "base_uri": "https://localhost:8080/",
          "height": 34
        }
      },
      "source": [
        "X= df[\"clean_fb_data\"]\n",
        "\n",
        "count_word = X.str.count(' ') + 1   #count word for each fb user\n",
        "max_Number_of_word = max(count_word) \n",
        "max_Number_of_word"
      ],
      "execution_count": 0,
      "outputs": [
        {
          "output_type": "execute_result",
          "data": {
            "text/plain": [
              "4495"
            ]
          },
          "metadata": {
            "tags": []
          },
          "execution_count": 15
        }
      ]
    },
    {
      "cell_type": "code",
      "metadata": {
        "id": "QPg8znXEuJzU",
        "colab_type": "code",
        "colab": {}
      },
      "source": [
        "import tensorflow_hub as hub\n",
        "import tensorflow as tf\n",
        "elmo = hub.Module(\"https://tfhub.dev/google/elmo/2\", trainable=True)\n",
        "\n",
        "def elmo_vectors2(x):\n",
        "  embeddings = elmo(x.tolist(), signature=\"default\", as_dict=True)[\"elmo\"]\n",
        "  with tf.Session() as sess:\n",
        "    sess.run(tf.global_variables_initializer())\n",
        "    sess.run(tf.tables_initializer())\n",
        "    # return average of ELMo features\n",
        "    return sess.run(embeddings)"
      ],
      "execution_count": 0,
      "outputs": []
    },
    {
      "cell_type": "code",
      "metadata": {
        "id": "b7ZHxc5b2pz-",
        "colab_type": "code",
        "colab": {}
      },
      "source": [
        "#split fb data into batches of 5 samples each to avoid run out of computational resources (memory) \n",
        "X_part = [X[i:i+5] for i in range(0,X.shape[0],5)]"
      ],
      "execution_count": 0,
      "outputs": []
    },
    {
      "cell_type": "code",
      "metadata": {
        "id": "cRtxxXGnorIM",
        "colab_type": "code",
        "colab": {}
      },
      "source": [
        "# Extract ELMo embeddings\n",
        "elmo_train = [elmo_vectors2(fbData) for fbData in X_part]"
      ],
      "execution_count": 0,
      "outputs": []
    },
    {
      "cell_type": "code",
      "metadata": {
        "id": "tjqquR8aot9h",
        "colab_type": "code",
        "outputId": "08e5b1f6-9e75-4a1c-8e29-0d16179b06a1",
        "colab": {
          "base_uri": "https://localhost:8080/",
          "height": 289
        }
      },
      "source": [
        "#elmo_train = np.asarray(elmo_train)\n",
        "for i in range(len(elmo_train)):\n",
        "  print(elmo_train[i].shape)"
      ],
      "execution_count": 0,
      "outputs": [
        {
          "output_type": "stream",
          "text": [
            "(5, 1878, 1024)\n",
            "(5, 2861, 1024)\n",
            "(5, 1467, 1024)\n",
            "(5, 1760, 1024)\n",
            "(5, 1809, 1024)\n",
            "(5, 1762, 1024)\n",
            "(5, 1007, 1024)\n",
            "(5, 4495, 1024)\n",
            "(5, 1153, 1024)\n",
            "(5, 2076, 1024)\n",
            "(5, 1168, 1024)\n",
            "(5, 1867, 1024)\n",
            "(5, 3098, 1024)\n",
            "(5, 857, 1024)\n",
            "(5, 3045, 1024)\n",
            "(5, 1154, 1024)\n"
          ],
          "name": "stdout"
        }
      ]
    },
    {
      "cell_type": "code",
      "metadata": {
        "id": "YuVeW6JPoxTa",
        "colab_type": "code",
        "outputId": "95ef1ddd-651b-4ffc-aa99-cc7d416ed261",
        "colab": {
          "base_uri": "https://localhost:8080/",
          "height": 34
        }
      },
      "source": [
        "from tensorflow.python.keras.preprocessing.sequence import pad_sequences\n",
        "pad = 'pre'\n",
        "for i in range(len(elmo_train)):\n",
        "  if i==0:\n",
        "    x_train_pad =pad_sequences(elmo_train[i], maxlen=max_Number_of_word,padding=pad)\n",
        "  elif i==1:\n",
        "    x_train_pad2 =pad_sequences(elmo_train[i], maxlen=max_Number_of_word,padding=pad)\n",
        "    elmo_train_X= np.concatenate((x_train_pad, x_train_pad2))\n",
        "  else:\n",
        "    x_train_pad =pad_sequences(elmo_train[i], maxlen=max_Number_of_word,padding=pad)\n",
        "    elmo_train_X= np.concatenate((elmo_train_X, x_train_pad))\n",
        "  \n",
        "elmo_train_X.shape\n"
      ],
      "execution_count": 0,
      "outputs": [
        {
          "output_type": "execute_result",
          "data": {
            "text/plain": [
              "(80, 4495, 1024)"
            ]
          },
          "metadata": {
            "tags": []
          },
          "execution_count": 25
        }
      ]
    },
    {
      "cell_type": "markdown",
      "metadata": {
        "id": "nui4t3IjHKd_",
        "colab_type": "text"
      },
      "source": [
        "#  save elmo arrays as pickle file as it took a long time to get the ELMo vectors for them."
      ]
    },
    {
      "cell_type": "code",
      "metadata": {
        "id": "a1y3dAuwo0nZ",
        "colab_type": "code",
        "colab": {}
      },
      "source": [
        "import pickle"
      ],
      "execution_count": 0,
      "outputs": []
    },
    {
      "cell_type": "code",
      "metadata": {
        "id": "3uIFB8q9oi7n",
        "colab_type": "code",
        "colab": {}
      },
      "source": [
        "# save elmo_train_X\n",
        "pickle_out = open(\"fbData_ElmoTrain.pickle\",\"wb\")\n",
        "pickle.dump(elmo_train_X, pickle_out)\n",
        "pickle_out.close()"
      ],
      "execution_count": 0,
      "outputs": []
    },
    {
      "cell_type": "code",
      "metadata": {
        "id": "vPtgT_gv4ZJO",
        "colab_type": "code",
        "outputId": "d1d0649e-a7ee-48e0-d897-9a7de92d6d21",
        "colab": {
          "base_uri": "https://localhost:8080/",
          "height": 34
        }
      },
      "source": [
        "# load elmo_train_X\n",
        "pickle_in = open(\"fbData_ElmoTrain.pickle\", \"rb\")\n",
        "elmo_train_X = pickle.load(pickle_in)\n",
        "elmo_train_X.shape"
      ],
      "execution_count": 0,
      "outputs": [
        {
          "output_type": "execute_result",
          "data": {
            "text/plain": [
              "(80, 4495, 1024)"
            ]
          },
          "metadata": {
            "tags": []
          },
          "execution_count": 12
        }
      ]
    },
    {
      "cell_type": "markdown",
      "metadata": {
        "id": "dxXE4EtfHwVb",
        "colab_type": "text"
      },
      "source": [
        "# **Model**"
      ]
    },
    {
      "cell_type": "code",
      "metadata": {
        "id": "aQ_ALyf4aRbg",
        "colab_type": "code",
        "colab": {}
      },
      "source": [
        "\n",
        "def myModel():\n",
        "  model = Sequential()\n",
        "  model.add(Bidirectional(LSTM(64,return_sequences=True,dropout=0.2, recurrent_dropout=0.2), input_shape=(None,1024)))\n",
        "  model.add(Bidirectional(LSTM(32)))\n",
        "  model.add(Dense(512, activation='relu'))\n",
        "  model.add(Dropout(0.50))\n",
        "  #model.add(Dense(8))\n",
        "  #model.add(Dropout(0.25))\n",
        "  model.add(Dense(3, activation='softmax'))\n",
        "  optimizer = Adam(lr=.001)\n",
        "  #optimizer = SGD(lr=0.001, momentum=0.9)\n",
        "  #Compile the Keras model so it is ready for training\n",
        "  model.compile(loss='categorical_crossentropy',optimizer=optimizer,metrics=['accuracy', 'mae','mse'])\n",
        "  model.summary()\n",
        "  return model\n",
        "\n",
        "def plot_accuracy_loss(history):\n",
        "  history_dict = history.history\n",
        "  # plot loss during training\n",
        "  loss_values = history_dict['loss']\n",
        "  val_loss_values = history_dict['val_loss']\n",
        "  plt.subplot(211)\n",
        "  plt.title('Loss')\n",
        "  epochs = range(1, len(loss_values) + 1)\n",
        "  plt.plot(epochs,loss_values, label='Training loss')\n",
        "  plt.plot(epochs,val_loss_values, label='test/Validation loss')\n",
        "  plt.xlabel('Epochs')\n",
        "  plt.ylabel('Loss')\n",
        "  plt.legend()\n",
        "  # plot accuracy during training\n",
        "  acc_values = history_dict['acc']\n",
        "  val_acc_values = history_dict['val_acc']\n",
        "  plt.subplot(212)\n",
        "  plt.title('Accuracy')\n",
        "  epochs = range(1, len(acc_values) + 1)\n",
        "  plt.plot(epochs,acc_values, label='train accuracy')\n",
        "  plt.plot(epochs,val_acc_values, label='test/Validation accuracy')\n",
        "  plt.legend()\n",
        "  plt.show()\n",
        "  \n",
        "def acc_on_train(x,y,model):\n",
        "  %%time\n",
        "  result = model.evaluate(x, y,verbose=0)\n",
        "  print(\"Accuracy on trian data: {0:.2%}\".format(result[1]))\n",
        "  print(\"MAE on train data: {0:.2%}\".format(result[2]))\n",
        "  print(\"MSE on train data: {0:.2%}\".format(result[3]))\n",
        "  print(\"\\n\")\n",
        "  \n",
        "def acc_on_test(x,y,model):\n",
        "  %%time\n",
        "  result = model.evaluate(x, y,verbose=0)\n",
        "  print(\"Accuracy on test data: {0:.2%}\".format(result[1]))\n",
        "  print(\"MAE on test data: {0:.2%}\".format(result[2]))\n",
        "  print(\"MSE on test data: {0:.2%}\".format(result[3]))\n",
        "  print(\"\\n\")\n",
        "  "
      ],
      "execution_count": 0,
      "outputs": []
    },
    {
      "cell_type": "code",
      "metadata": {
        "id": "ZgniF6X_auhr",
        "colab_type": "code",
        "outputId": "3344c155-7f57-47c3-b1bf-c1d7ad174f2f",
        "colab": {
          "base_uri": "https://localhost:8080/",
          "height": 564
        }
      },
      "source": [
        "model = myModel()"
      ],
      "execution_count": 0,
      "outputs": [
        {
          "output_type": "stream",
          "text": [
            "WARNING: Logging before flag parsing goes to stderr.\n",
            "W0827 14:11:34.461799 140056909944704 deprecation.py:506] From /usr/local/lib/python3.6/dist-packages/tensorflow/python/ops/init_ops.py:1251: calling VarianceScaling.__init__ (from tensorflow.python.ops.init_ops) with dtype is deprecated and will be removed in a future version.\n",
            "Instructions for updating:\n",
            "Call initializer instance with the dtype argument instead of passing it to the constructor\n",
            "W0827 14:11:34.472043 140056909944704 deprecation.py:506] From /usr/local/lib/python3.6/dist-packages/tensorflow/python/ops/init_ops.py:97: calling GlorotUniform.__init__ (from tensorflow.python.ops.init_ops) with dtype is deprecated and will be removed in a future version.\n",
            "Instructions for updating:\n",
            "Call initializer instance with the dtype argument instead of passing it to the constructor\n",
            "W0827 14:11:34.473686 140056909944704 deprecation.py:506] From /usr/local/lib/python3.6/dist-packages/tensorflow/python/ops/init_ops.py:97: calling Orthogonal.__init__ (from tensorflow.python.ops.init_ops) with dtype is deprecated and will be removed in a future version.\n",
            "Instructions for updating:\n",
            "Call initializer instance with the dtype argument instead of passing it to the constructor\n",
            "W0827 14:11:34.475456 140056909944704 deprecation.py:506] From /usr/local/lib/python3.6/dist-packages/tensorflow/python/ops/init_ops.py:97: calling Zeros.__init__ (from tensorflow.python.ops.init_ops) with dtype is deprecated and will be removed in a future version.\n",
            "Instructions for updating:\n",
            "Call initializer instance with the dtype argument instead of passing it to the constructor\n"
          ],
          "name": "stderr"
        },
        {
          "output_type": "stream",
          "text": [
            "Model: \"sequential\"\n",
            "_________________________________________________________________\n",
            "Layer (type)                 Output Shape              Param #   \n",
            "=================================================================\n",
            "bidirectional (Bidirectional (None, None, 128)         557568    \n",
            "_________________________________________________________________\n",
            "bidirectional_1 (Bidirection (None, 64)                41216     \n",
            "_________________________________________________________________\n",
            "dense (Dense)                (None, 512)               33280     \n",
            "_________________________________________________________________\n",
            "dropout (Dropout)            (None, 512)               0         \n",
            "_________________________________________________________________\n",
            "dense_1 (Dense)              (None, 3)                 1539      \n",
            "=================================================================\n",
            "Total params: 633,603\n",
            "Trainable params: 633,603\n",
            "Non-trainable params: 0\n",
            "_________________________________________________________________\n"
          ],
          "name": "stdout"
        }
      ]
    },
    {
      "cell_type": "markdown",
      "metadata": {
        "id": "OewnU0mGdVIL",
        "colab_type": "text"
      },
      "source": [
        "# **DI**"
      ]
    },
    {
      "cell_type": "code",
      "metadata": {
        "id": "Bsjup80ya4cx",
        "colab_type": "code",
        "outputId": "ddf54a3f-052b-43e9-8f42-cb44417e5d9f",
        "colab": {
          "base_uri": "https://localhost:8080/",
          "height": 51
        }
      },
      "source": [
        "ytrain_di = np.asarray(df[\"DI_Class\"])\n",
        "\n",
        "encoder = LabelEncoder()\n",
        "encoder.fit(ytrain_di)\n",
        "encoded_Y = encoder.transform(ytrain_di)\n",
        "# convert integers to dummy variables (i.e. one hot encoded)\n",
        "ytrain_di = np_utils.to_categorical(encoded_Y)\n",
        "\n",
        "X_train_di, X_test_di, y_train_di, y_test_di = train_test_split(elmo_train_X, ytrain_di, test_size=0.2,random_state=42)\n",
        "print (X_train_di.shape, y_train_di.shape)\n",
        "print (X_test_di.shape, y_test_di.shape)\n"
      ],
      "execution_count": 0,
      "outputs": [
        {
          "output_type": "stream",
          "text": [
            "(64, 4495, 1024) (64, 3)\n",
            "(16, 4495, 1024) (16, 3)\n"
          ],
          "name": "stdout"
        }
      ]
    },
    {
      "cell_type": "code",
      "metadata": {
        "id": "KZfFYn4mbNOF",
        "colab_type": "code",
        "outputId": "e67f7fbd-5a47-46d8-e093-4ec2f3392fb7",
        "colab": {
          "base_uri": "https://localhost:8080/",
          "height": 513
        }
      },
      "source": [
        "history_di = model.fit(X_train_di, y_train_di, epochs=12,validation_data=(X_test_di, y_test_di), batch_size=15)"
      ],
      "execution_count": 0,
      "outputs": [
        {
          "output_type": "stream",
          "text": [
            "W0827 06:58:06.653468 140526748620672 deprecation.py:323] From /usr/local/lib/python3.6/dist-packages/tensorflow_core/python/ops/math_grad.py:1424: where (from tensorflow.python.ops.array_ops) is deprecated and will be removed in a future version.\n",
            "Instructions for updating:\n",
            "Use tf.where in 2.0, which has the same broadcast rule as np.where\n"
          ],
          "name": "stderr"
        },
        {
          "output_type": "stream",
          "text": [
            "Train on 64 samples, validate on 16 samples\n",
            "Epoch 1/12\n",
            "64/64 [==============================] - 144s 2s/sample - loss: 1.0929 - acc: 0.5469 - mean_absolute_error: 0.4431 - mean_squared_error: 0.2210 - val_loss: 1.0744 - val_acc: 0.5625 - val_mean_absolute_error: 0.4387 - val_mean_squared_error: 0.2168\n",
            "Epoch 2/12\n",
            "64/64 [==============================] - 111s 2s/sample - loss: 1.0444 - acc: 0.6562 - mean_absolute_error: 0.4315 - mean_squared_error: 0.2102 - val_loss: 1.0337 - val_acc: 0.5625 - val_mean_absolute_error: 0.4260 - val_mean_squared_error: 0.2074\n",
            "Epoch 3/12\n",
            "64/64 [==============================] - 110s 2s/sample - loss: 0.9788 - acc: 0.6406 - mean_absolute_error: 0.4118 - mean_squared_error: 0.1957 - val_loss: 0.9921 - val_acc: 0.5625 - val_mean_absolute_error: 0.4015 - val_mean_squared_error: 0.1963\n",
            "Epoch 4/12\n",
            "64/64 [==============================] - 109s 2s/sample - loss: 0.8809 - acc: 0.6406 - mean_absolute_error: 0.3735 - mean_squared_error: 0.1742 - val_loss: 1.0288 - val_acc: 0.5625 - val_mean_absolute_error: 0.3653 - val_mean_squared_error: 0.1982\n",
            "Epoch 5/12\n",
            "64/64 [==============================] - 111s 2s/sample - loss: 0.8634 - acc: 0.6406 - mean_absolute_error: 0.3152 - mean_squared_error: 0.1671 - val_loss: 1.1305 - val_acc: 0.5625 - val_mean_absolute_error: 0.3525 - val_mean_squared_error: 0.2113\n",
            "Epoch 6/12\n",
            "64/64 [==============================] - 111s 2s/sample - loss: 0.8493 - acc: 0.6719 - mean_absolute_error: 0.3200 - mean_squared_error: 0.1652 - val_loss: 1.0723 - val_acc: 0.5000 - val_mean_absolute_error: 0.3828 - val_mean_squared_error: 0.2124\n",
            "Epoch 7/12\n",
            "64/64 [==============================] - 110s 2s/sample - loss: 0.7674 - acc: 0.7344 - mean_absolute_error: 0.3160 - mean_squared_error: 0.1459 - val_loss: 1.0304 - val_acc: 0.5000 - val_mean_absolute_error: 0.3714 - val_mean_squared_error: 0.2025\n",
            "Epoch 8/12\n",
            "64/64 [==============================] - 114s 2s/sample - loss: 0.7450 - acc: 0.7344 - mean_absolute_error: 0.2956 - mean_squared_error: 0.1403 - val_loss: 1.0460 - val_acc: 0.5625 - val_mean_absolute_error: 0.3518 - val_mean_squared_error: 0.2047\n",
            "Epoch 9/12\n",
            "64/64 [==============================] - 113s 2s/sample - loss: 0.7246 - acc: 0.7344 - mean_absolute_error: 0.2670 - mean_squared_error: 0.1373 - val_loss: 1.1169 - val_acc: 0.5625 - val_mean_absolute_error: 0.3457 - val_mean_squared_error: 0.2180\n",
            "Epoch 10/12\n",
            "64/64 [==============================] - 113s 2s/sample - loss: 0.6856 - acc: 0.7344 - mean_absolute_error: 0.2528 - mean_squared_error: 0.1302 - val_loss: 1.2206 - val_acc: 0.4375 - val_mean_absolute_error: 0.3838 - val_mean_squared_error: 0.2424\n",
            "Epoch 11/12\n",
            "64/64 [==============================] - 112s 2s/sample - loss: 0.6785 - acc: 0.7344 - mean_absolute_error: 0.2580 - mean_squared_error: 0.1290 - val_loss: 1.4266 - val_acc: 0.4375 - val_mean_absolute_error: 0.3993 - val_mean_squared_error: 0.2751\n",
            "Epoch 12/12\n",
            "64/64 [==============================] - 112s 2s/sample - loss: 0.6728 - acc: 0.7500 - mean_absolute_error: 0.2579 - mean_squared_error: 0.1272 - val_loss: 1.2276 - val_acc: 0.5625 - val_mean_absolute_error: 0.3476 - val_mean_squared_error: 0.2242\n"
          ],
          "name": "stdout"
        }
      ]
    },
    {
      "cell_type": "code",
      "metadata": {
        "id": "q3VBnC9LkYNY",
        "colab_type": "code",
        "outputId": "95fc57ce-acba-4f0a-dac3-0265dea712d7",
        "colab": {
          "base_uri": "https://localhost:8080/",
          "height": 519
        }
      },
      "source": [
        "# evaluate the model\n",
        "acc_on_train(X_train_di,y_train_di,model)\n",
        "acc_on_test(X_test_di,y_test_di,model)\n",
        "plot_accuracy_loss(history_di)"
      ],
      "execution_count": 0,
      "outputs": [
        {
          "output_type": "stream",
          "text": [
            "CPU times: user 2 µs, sys: 1 µs, total: 3 µs\n",
            "Wall time: 6.91 µs\n",
            "Accuracy on trian data: 75.00%\n",
            "MAE on train data: 25.42%\n",
            "MSE on train data: 12.76%\n",
            "\n",
            "\n",
            "CPU times: user 2 µs, sys: 1e+03 ns, total: 3 µs\n",
            "Wall time: 6.68 µs\n",
            "Accuracy on test data: 56.25%\n",
            "MAE on test data: 34.76%\n",
            "MSE on test data: 22.42%\n",
            "\n",
            "\n"
          ],
          "name": "stdout"
        },
        {
          "output_type": "display_data",
          "data": {
            "image/png": "[encoded data removed]",
            "text/plain": [
              "<Figure size 432x288 with 2 Axes>"
            ]
          },
          "metadata": {
            "tags": []
          }
        }
      ]
    },
    {
      "cell_type": "code",
      "metadata": {
        "id": "n19aXBS1S4fy",
        "colab_type": "code",
        "outputId": "0932a18c-1f8e-47e4-fb36-9db94b8e0cdc",
        "colab": {
          "base_uri": "https://localhost:8080/",
          "height": 34
        }
      },
      "source": [
        "#predict\n",
        "p=model.predict(x=X_test_di)\n",
        "p.shape\n",
        "p[0]"
      ],
      "execution_count": 0,
      "outputs": [
        {
          "output_type": "execute_result",
          "data": {
            "text/plain": [
              "array([0.17122951, 0.69816166, 0.13060877], dtype=float32)"
            ]
          },
          "metadata": {
            "tags": []
          },
          "execution_count": 34
        }
      ]
    },
    {
      "cell_type": "code",
      "metadata": {
        "id": "gP314rBg3kqt",
        "colab_type": "code",
        "colab": {}
      },
      "source": [
        "# Save the model in h5 format \n",
        "model.save(\"di.h5\")"
      ],
      "execution_count": 0,
      "outputs": []
    },
    {
      "cell_type": "markdown",
      "metadata": {
        "colab_type": "text",
        "id": "21n6lxdld1-z"
      },
      "source": [
        "# **PSS**"
      ]
    },
    {
      "cell_type": "code",
      "metadata": {
        "colab_type": "code",
        "id": "XsHu8SGzd1-1",
        "outputId": "8a420f19-6d62-4fcb-c29a-cf82a593ee02",
        "colab": {
          "base_uri": "https://localhost:8080/",
          "height": 51
        }
      },
      "source": [
        "ytrain_pss = np.asarray(df[\"PSS_Class\"])\n",
        "encoder = LabelEncoder()\n",
        "encoder.fit(ytrain_pss)\n",
        "encoded_Y = encoder.transform(ytrain_pss)\n",
        "# convert integers to dummy variables (i.e. one hot encoded)\n",
        "ytrain_pss = np_utils.to_categorical(encoded_Y)\n",
        "\n",
        "X_train_pss, X_test_pss, y_train_pss, y_test_pss = train_test_split(elmo_train_X, ytrain_pss, test_size=0.2,random_state=42)\n",
        "print (X_train_pss.shape, y_train_pss.shape)\n",
        "print (X_test_pss.shape, y_test_pss.shape)"
      ],
      "execution_count": 0,
      "outputs": [
        {
          "output_type": "stream",
          "text": [
            "(64, 4495, 1024) (64, 3)\n",
            "(16, 4495, 1024) (16, 3)\n"
          ],
          "name": "stdout"
        }
      ]
    },
    {
      "cell_type": "code",
      "metadata": {
        "colab_type": "code",
        "id": "OM9snKIYd1-5",
        "outputId": "c542cd17-2e5b-4d02-ad7e-fa61572f6d45",
        "colab": {
          "base_uri": "https://localhost:8080/",
          "height": 462
        }
      },
      "source": [
        "history_pss = model.fit(X_train_pss, y_train_pss, epochs=12,validation_data=(X_test_pss, y_test_pss), batch_size=15)"
      ],
      "execution_count": 0,
      "outputs": [
        {
          "output_type": "stream",
          "text": [
            "Train on 64 samples, validate on 16 samples\n",
            "Epoch 1/12\n",
            "64/64 [==============================] - 116s 2s/sample - loss: 0.4671 - acc: 0.9219 - mean_absolute_error: 0.1816 - mean_squared_error: 0.0664 - val_loss: 0.4172 - val_acc: 0.8750 - val_mean_absolute_error: 0.1335 - val_mean_squared_error: 0.0719\n",
            "Epoch 2/12\n",
            "64/64 [==============================] - 115s 2s/sample - loss: 0.2154 - acc: 0.9375 - mean_absolute_error: 0.0899 - mean_squared_error: 0.0327 - val_loss: 0.5802 - val_acc: 0.8750 - val_mean_absolute_error: 0.0905 - val_mean_squared_error: 0.0807\n",
            "Epoch 3/12\n",
            "64/64 [==============================] - 115s 2s/sample - loss: 0.1261 - acc: 0.9688 - mean_absolute_error: 0.0373 - mean_squared_error: 0.0183 - val_loss: 0.7964 - val_acc: 0.8750 - val_mean_absolute_error: 0.0846 - val_mean_squared_error: 0.0829\n",
            "Epoch 4/12\n",
            "64/64 [==============================] - 115s 2s/sample - loss: 0.1153 - acc: 0.9844 - mean_absolute_error: 0.0215 - mean_squared_error: 0.0124 - val_loss: 0.8529 - val_acc: 0.8750 - val_mean_absolute_error: 0.0843 - val_mean_squared_error: 0.0830\n",
            "Epoch 5/12\n",
            "64/64 [==============================] - 115s 2s/sample - loss: 0.1038 - acc: 0.9844 - mean_absolute_error: 0.0183 - mean_squared_error: 0.0110 - val_loss: 0.8222 - val_acc: 0.8750 - val_mean_absolute_error: 0.0848 - val_mean_squared_error: 0.0830\n",
            "Epoch 6/12\n",
            "64/64 [==============================] - 115s 2s/sample - loss: 0.1100 - acc: 0.9844 - mean_absolute_error: 0.0157 - mean_squared_error: 0.0106 - val_loss: 0.7624 - val_acc: 0.8750 - val_mean_absolute_error: 0.0854 - val_mean_squared_error: 0.0828\n",
            "Epoch 7/12\n",
            "64/64 [==============================] - 115s 2s/sample - loss: 0.1002 - acc: 0.9844 - mean_absolute_error: 0.0168 - mean_squared_error: 0.0104 - val_loss: 0.6793 - val_acc: 0.8750 - val_mean_absolute_error: 0.0872 - val_mean_squared_error: 0.0822\n",
            "Epoch 8/12\n",
            "64/64 [==============================] - 114s 2s/sample - loss: 0.1139 - acc: 0.9844 - mean_absolute_error: 0.0176 - mean_squared_error: 0.0105 - val_loss: 0.6330 - val_acc: 0.8750 - val_mean_absolute_error: 0.0888 - val_mean_squared_error: 0.0817\n",
            "Epoch 9/12\n",
            "64/64 [==============================] - 113s 2s/sample - loss: 0.0762 - acc: 0.9844 - mean_absolute_error: 0.0202 - mean_squared_error: 0.0100 - val_loss: 0.6057 - val_acc: 0.8750 - val_mean_absolute_error: 0.0901 - val_mean_squared_error: 0.0812\n",
            "Epoch 10/12\n",
            "64/64 [==============================] - 114s 2s/sample - loss: 0.0744 - acc: 0.9844 - mean_absolute_error: 0.0226 - mean_squared_error: 0.0099 - val_loss: 0.5905 - val_acc: 0.8750 - val_mean_absolute_error: 0.0911 - val_mean_squared_error: 0.0809\n",
            "Epoch 11/12\n",
            "64/64 [==============================] - 113s 2s/sample - loss: 0.0719 - acc: 0.9844 - mean_absolute_error: 0.0214 - mean_squared_error: 0.0099 - val_loss: 0.6244 - val_acc: 0.8750 - val_mean_absolute_error: 0.0890 - val_mean_squared_error: 0.0815\n",
            "Epoch 12/12\n",
            "64/64 [==============================] - 115s 2s/sample - loss: 0.0881 - acc: 0.9844 - mean_absolute_error: 0.0195 - mean_squared_error: 0.0104 - val_loss: 0.6560 - val_acc: 0.8750 - val_mean_absolute_error: 0.0877 - val_mean_squared_error: 0.0818\n"
          ],
          "name": "stdout"
        }
      ]
    },
    {
      "cell_type": "code",
      "metadata": {
        "colab_type": "code",
        "id": "yVapKd3Fd1-9",
        "outputId": "360074b7-0058-4613-f5a8-92f46064c6f4",
        "colab": {
          "base_uri": "https://localhost:8080/",
          "height": 519
        }
      },
      "source": [
        "# evaluate the model\n",
        "acc_on_train(X_train_pss,y_train_pss,model)\n",
        "acc_on_test(X_test_pss,y_test_pss,model)\n",
        "plot_accuracy_loss(history_pss)"
      ],
      "execution_count": 0,
      "outputs": [
        {
          "output_type": "stream",
          "text": [
            "CPU times: user 2 µs, sys: 2 µs, total: 4 µs\n",
            "Wall time: 8.82 µs\n",
            "Accuracy on trian data: 98.44%\n",
            "MAE on train data: 1.73%\n",
            "MSE on train data: 1.03%\n",
            "\n",
            "\n",
            "CPU times: user 4 µs, sys: 0 ns, total: 4 µs\n",
            "Wall time: 8.34 µs\n",
            "Accuracy on test data: 87.50%\n",
            "MAE on test data: 8.77%\n",
            "MSE on test data: 8.18%\n",
            "\n",
            "\n"
          ],
          "name": "stdout"
        },
        {
          "output_type": "display_data",
          "data": {
            "image/png": "[encoded data removed]",
            "text/plain": [
              "<Figure size 432x288 with 2 Axes>"
            ]
          },
          "metadata": {
            "tags": []
          }
        }
      ]
    },
    {
      "cell_type": "code",
      "metadata": {
        "id": "DkHDZMzWCtnU",
        "colab_type": "code",
        "colab": {}
      },
      "source": [
        "# Save the model in h5 format \n",
        "model.save(\"pss.h5\")"
      ],
      "execution_count": 0,
      "outputs": []
    },
    {
      "cell_type": "markdown",
      "metadata": {
        "colab_type": "text",
        "id": "ZLF0ivWNexbS"
      },
      "source": [
        "# **GSE**"
      ]
    },
    {
      "cell_type": "code",
      "metadata": {
        "colab_type": "code",
        "id": "3vND8jMzexbY",
        "outputId": "a05454c4-b087-40da-f4aa-adab3c7a39c0",
        "colab": {
          "base_uri": "https://localhost:8080/",
          "height": 51
        }
      },
      "source": [
        "ytrain_gse = np.asarray(df[\"GSE_Class\"])\n",
        "encoder = LabelEncoder()\n",
        "encoder.fit(ytrain_gse)\n",
        "encoded_Y = encoder.transform(ytrain_gse)\n",
        "# convert integers to dummy variables (i.e. one hot encoded)\n",
        "ytrain_gse = np_utils.to_categorical(encoded_Y)\n",
        "\n",
        "X_train_gse, X_test_gse, y_train_gse, y_test_gse = train_test_split(elmo_train_X, ytrain_gse, test_size=0.2,random_state=42)\n",
        "print (X_train_gse.shape, y_train_gse.shape)\n",
        "print (X_test_gse.shape, y_test_gse.shape)"
      ],
      "execution_count": 0,
      "outputs": [
        {
          "output_type": "stream",
          "text": [
            "(64, 4495, 1024) (64, 3)\n",
            "(16, 4495, 1024) (16, 3)\n"
          ],
          "name": "stdout"
        }
      ]
    },
    {
      "cell_type": "code",
      "metadata": {
        "colab_type": "code",
        "id": "nTMjIenYexbi",
        "outputId": "0e8ccad0-94ed-4d8e-9010-92ef020ebf96",
        "colab": {
          "base_uri": "https://localhost:8080/",
          "height": 462
        }
      },
      "source": [
        "history_gse = model.fit(X_train_gse, y_train_gse, epochs=12,validation_data=(X_test_gse, y_test_gse), batch_size=15)"
      ],
      "execution_count": 0,
      "outputs": [
        {
          "output_type": "stream",
          "text": [
            "Train on 64 samples, validate on 16 samples\n",
            "Epoch 1/12\n",
            "64/64 [==============================] - 120s 2s/sample - loss: 1.5385 - acc: 0.6875 - mean_absolute_error: 0.2176 - mean_squared_error: 0.2001 - val_loss: 0.6779 - val_acc: 0.7500 - val_mean_absolute_error: 0.2096 - val_mean_squared_error: 0.1349\n",
            "Epoch 2/12\n",
            "64/64 [==============================] - 118s 2s/sample - loss: 0.9112 - acc: 0.6875 - mean_absolute_error: 0.2798 - mean_squared_error: 0.1644 - val_loss: 0.6908 - val_acc: 0.7500 - val_mean_absolute_error: 0.3003 - val_mean_squared_error: 0.1295\n",
            "Epoch 3/12\n",
            "64/64 [==============================] - 118s 2s/sample - loss: 0.9033 - acc: 0.6875 - mean_absolute_error: 0.3557 - mean_squared_error: 0.1751 - val_loss: 0.7672 - val_acc: 0.7500 - val_mean_absolute_error: 0.3396 - val_mean_squared_error: 0.1447\n",
            "Epoch 4/12\n",
            "64/64 [==============================] - 117s 2s/sample - loss: 0.8507 - acc: 0.7344 - mean_absolute_error: 0.3600 - mean_squared_error: 0.1628 - val_loss: 0.7633 - val_acc: 0.7500 - val_mean_absolute_error: 0.3369 - val_mean_squared_error: 0.1431\n",
            "Epoch 5/12\n",
            "64/64 [==============================] - 117s 2s/sample - loss: 0.8086 - acc: 0.7344 - mean_absolute_error: 0.3433 - mean_squared_error: 0.1539 - val_loss: 0.7226 - val_acc: 0.7500 - val_mean_absolute_error: 0.3131 - val_mean_squared_error: 0.1333\n",
            "Epoch 6/12\n",
            "64/64 [==============================] - 117s 2s/sample - loss: 0.7360 - acc: 0.7344 - mean_absolute_error: 0.3114 - mean_squared_error: 0.1385 - val_loss: 0.7144 - val_acc: 0.7500 - val_mean_absolute_error: 0.2983 - val_mean_squared_error: 0.1306\n",
            "Epoch 7/12\n",
            "64/64 [==============================] - 116s 2s/sample - loss: 0.7163 - acc: 0.7500 - mean_absolute_error: 0.2912 - mean_squared_error: 0.1350 - val_loss: 0.7045 - val_acc: 0.7500 - val_mean_absolute_error: 0.2814 - val_mean_squared_error: 0.1285\n",
            "Epoch 8/12\n",
            "64/64 [==============================] - 117s 2s/sample - loss: 0.6986 - acc: 0.7500 - mean_absolute_error: 0.2785 - mean_squared_error: 0.1310 - val_loss: 0.7101 - val_acc: 0.7500 - val_mean_absolute_error: 0.2666 - val_mean_squared_error: 0.1299\n",
            "Epoch 9/12\n",
            "64/64 [==============================] - 118s 2s/sample - loss: 0.6725 - acc: 0.7500 - mean_absolute_error: 0.2536 - mean_squared_error: 0.1268 - val_loss: 0.7253 - val_acc: 0.7500 - val_mean_absolute_error: 0.2524 - val_mean_squared_error: 0.1322\n",
            "Epoch 10/12\n",
            "64/64 [==============================] - 116s 2s/sample - loss: 0.6897 - acc: 0.7500 - mean_absolute_error: 0.2443 - mean_squared_error: 0.1306 - val_loss: 0.7372 - val_acc: 0.7500 - val_mean_absolute_error: 0.2514 - val_mean_squared_error: 0.1328\n",
            "Epoch 11/12\n",
            "64/64 [==============================] - 117s 2s/sample - loss: 0.6551 - acc: 0.7500 - mean_absolute_error: 0.2353 - mean_squared_error: 0.1244 - val_loss: 0.7398 - val_acc: 0.7500 - val_mean_absolute_error: 0.2472 - val_mean_squared_error: 0.1322\n",
            "Epoch 12/12\n",
            "64/64 [==============================] - 116s 2s/sample - loss: 0.6682 - acc: 0.7656 - mean_absolute_error: 0.2416 - mean_squared_error: 0.1253 - val_loss: 0.7279 - val_acc: 0.7500 - val_mean_absolute_error: 0.2488 - val_mean_squared_error: 0.1299\n"
          ],
          "name": "stdout"
        }
      ]
    },
    {
      "cell_type": "code",
      "metadata": {
        "colab_type": "code",
        "id": "tn79pEo0exbo",
        "outputId": "446d5fb9-7f51-4783-aee4-613adccfe0da",
        "colab": {
          "base_uri": "https://localhost:8080/",
          "height": 519
        }
      },
      "source": [
        "# evaluate the model\n",
        "acc_on_train(X_train_gse,y_train_gse,model)\n",
        "acc_on_test(X_test_gse,y_test_gse,model)\n",
        "plot_accuracy_loss(history_gse)"
      ],
      "execution_count": 0,
      "outputs": [
        {
          "output_type": "stream",
          "text": [
            "CPU times: user 4 µs, sys: 0 ns, total: 4 µs\n",
            "Wall time: 9.06 µs\n",
            "Accuracy on trian data: 75.00%\n",
            "MAE on train data: 24.46%\n",
            "MSE on train data: 12.33%\n",
            "\n",
            "\n",
            "CPU times: user 2 µs, sys: 2 µs, total: 4 µs\n",
            "Wall time: 7.87 µs\n",
            "Accuracy on test data: 75.00%\n",
            "MAE on test data: 24.88%\n",
            "MSE on test data: 12.99%\n",
            "\n",
            "\n"
          ],
          "name": "stdout"
        },
        {
          "output_type": "display_data",
          "data": {
            "image/png": "[encoded data removed]",
            "text/plain": [
              "<Figure size 432x288 with 2 Axes>"
            ]
          },
          "metadata": {
            "tags": []
          }
        }
      ]
    },
    {
      "cell_type": "code",
      "metadata": {
        "id": "AVY7cyKiCyxq",
        "colab_type": "code",
        "colab": {}
      },
      "source": [
        "# Save the model in h5 format \n",
        "model.save(\"gse.h5\")"
      ],
      "execution_count": 0,
      "outputs": []
    },
    {
      "cell_type": "markdown",
      "metadata": {
        "colab_type": "text",
        "id": "6GAql4lmfwlW"
      },
      "source": [
        "# **Ex**"
      ]
    },
    {
      "cell_type": "code",
      "metadata": {
        "colab_type": "code",
        "id": "Tivvs5R1fwlY",
        "outputId": "b845b253-0a61-4d9f-d29e-8fdf519c4154",
        "colab": {
          "base_uri": "https://localhost:8080/",
          "height": 51
        }
      },
      "source": [
        "ytrain_ex = np.asarray(df[\"Ex_Class\"])\n",
        "encoder = LabelEncoder()\n",
        "encoder.fit(ytrain_ex)\n",
        "encoded_Y = encoder.transform(ytrain_ex)\n",
        "# convert integers to dummy variables (i.e. one hot encoded)\n",
        "ytrain_ex = np_utils.to_categorical(encoded_Y)\n",
        "\n",
        "X_train_ex, X_test_ex, y_train_ex, y_test_ex = train_test_split(elmo_train_X, ytrain_ex, test_size=0.2,random_state=42)\n",
        "print (X_train_ex.shape, y_train_ex.shape)\n",
        "print (X_test_ex.shape, y_test_ex.shape)"
      ],
      "execution_count": 0,
      "outputs": [
        {
          "output_type": "stream",
          "text": [
            "(64, 4495, 1024) (64, 3)\n",
            "(16, 4495, 1024) (16, 3)\n"
          ],
          "name": "stdout"
        }
      ]
    },
    {
      "cell_type": "code",
      "metadata": {
        "colab_type": "code",
        "id": "cyyhEQhEfwld",
        "outputId": "4679d440-2c1e-4f60-c0a6-1f7ab4742275",
        "colab": {
          "base_uri": "https://localhost:8080/",
          "height": 513
        }
      },
      "source": [
        "history_ex = model.fit(X_train_ex, y_train_ex, epochs=12,validation_data=(X_test_ex, y_test_ex), batch_size=15)"
      ],
      "execution_count": 0,
      "outputs": [
        {
          "output_type": "stream",
          "text": [
            "Train on 64 samples, validate on 16 samples\n"
          ],
          "name": "stdout"
        },
        {
          "output_type": "stream",
          "text": [
            "W0827 10:52:33.243045 139739370510208 deprecation.py:323] From /usr/local/lib/python3.6/dist-packages/tensorflow/python/ops/math_grad.py:1250: add_dispatch_support.<locals>.wrapper (from tensorflow.python.ops.array_ops) is deprecated and will be removed in a future version.\n",
            "Instructions for updating:\n",
            "Use tf.where in 2.0, which has the same broadcast rule as np.where\n"
          ],
          "name": "stderr"
        },
        {
          "output_type": "stream",
          "text": [
            "Epoch 1/12\n",
            "64/64 [==============================] - 238s 4s/sample - loss: 1.0878 - acc: 0.5312 - mean_absolute_error: 0.4420 - mean_squared_error: 0.2199 - val_loss: 1.0583 - val_acc: 0.7500 - val_mean_absolute_error: 0.4345 - val_mean_squared_error: 0.2131\n",
            "Epoch 2/12\n",
            "64/64 [==============================] - 235s 4s/sample - loss: 1.0557 - acc: 0.5469 - mean_absolute_error: 0.4337 - mean_squared_error: 0.2127 - val_loss: 1.0096 - val_acc: 0.7500 - val_mean_absolute_error: 0.4189 - val_mean_squared_error: 0.2013\n",
            "Epoch 3/12\n",
            "64/64 [==============================] - 237s 4s/sample - loss: 0.9992 - acc: 0.5469 - mean_absolute_error: 0.4169 - mean_squared_error: 0.1999 - val_loss: 0.9632 - val_acc: 0.7500 - val_mean_absolute_error: 0.3926 - val_mean_squared_error: 0.1878\n",
            "Epoch 4/12\n",
            "64/64 [==============================] - 235s 4s/sample - loss: 0.9509 - acc: 0.5625 - mean_absolute_error: 0.3922 - mean_squared_error: 0.1900 - val_loss: 0.9317 - val_acc: 0.7500 - val_mean_absolute_error: 0.3551 - val_mean_squared_error: 0.1728\n",
            "Epoch 5/12\n",
            "64/64 [==============================] - 235s 4s/sample - loss: 0.9002 - acc: 0.6094 - mean_absolute_error: 0.3675 - mean_squared_error: 0.1772 - val_loss: 0.9365 - val_acc: 0.7500 - val_mean_absolute_error: 0.3461 - val_mean_squared_error: 0.1708\n",
            "Epoch 6/12\n",
            "64/64 [==============================] - 238s 4s/sample - loss: 0.8573 - acc: 0.6406 - mean_absolute_error: 0.3449 - mean_squared_error: 0.1680 - val_loss: 0.9449 - val_acc: 0.7500 - val_mean_absolute_error: 0.3165 - val_mean_squared_error: 0.1657\n",
            "Epoch 7/12\n",
            "64/64 [==============================] - 235s 4s/sample - loss: 0.8325 - acc: 0.6406 - mean_absolute_error: 0.3190 - mean_squared_error: 0.1633 - val_loss: 0.9709 - val_acc: 0.7500 - val_mean_absolute_error: 0.3147 - val_mean_squared_error: 0.1675\n",
            "Epoch 8/12\n",
            "64/64 [==============================] - 236s 4s/sample - loss: 0.8179 - acc: 0.6562 - mean_absolute_error: 0.3184 - mean_squared_error: 0.1611 - val_loss: 1.0370 - val_acc: 0.6875 - val_mean_absolute_error: 0.3417 - val_mean_squared_error: 0.1854\n",
            "Epoch 9/12\n",
            "64/64 [==============================] - 237s 4s/sample - loss: 0.7785 - acc: 0.6562 - mean_absolute_error: 0.3120 - mean_squared_error: 0.1524 - val_loss: 1.0708 - val_acc: 0.7500 - val_mean_absolute_error: 0.3249 - val_mean_squared_error: 0.1825\n",
            "Epoch 10/12\n",
            "64/64 [==============================] - 233s 4s/sample - loss: 0.7861 - acc: 0.6562 - mean_absolute_error: 0.3161 - mean_squared_error: 0.1546 - val_loss: 1.1528 - val_acc: 0.7500 - val_mean_absolute_error: 0.3317 - val_mean_squared_error: 0.1919\n",
            "Epoch 11/12\n",
            "64/64 [==============================] - 231s 4s/sample - loss: 0.7947 - acc: 0.6562 - mean_absolute_error: 0.3237 - mean_squared_error: 0.1563 - val_loss: 1.2541 - val_acc: 0.6875 - val_mean_absolute_error: 0.3938 - val_mean_squared_error: 0.2330\n",
            "Epoch 12/12\n",
            "64/64 [==============================] - 232s 4s/sample - loss: 0.7954 - acc: 0.6406 - mean_absolute_error: 0.3261 - mean_squared_error: 0.1576 - val_loss: 1.1201 - val_acc: 0.7500 - val_mean_absolute_error: 0.3438 - val_mean_squared_error: 0.1939\n"
          ],
          "name": "stdout"
        }
      ]
    },
    {
      "cell_type": "code",
      "metadata": {
        "colab_type": "code",
        "id": "zLMFjn-hfwlh",
        "outputId": "b515f137-1c7d-4fea-9712-fb39ab0f91fb",
        "colab": {
          "base_uri": "https://localhost:8080/",
          "height": 519
        }
      },
      "source": [
        "# evaluate the model\n",
        "acc_on_train(X_train_ex,y_train_ex,model)\n",
        "acc_on_test(X_test_ex,y_test_ex,model)\n",
        "plot_accuracy_loss(history_ex)"
      ],
      "execution_count": 0,
      "outputs": [
        {
          "output_type": "stream",
          "text": [
            "CPU times: user 3 µs, sys: 1e+03 ns, total: 4 µs\n",
            "Wall time: 6.91 µs\n",
            "Accuracy on trian data: 65.62%\n",
            "MAE on train data: 31.43%\n",
            "MSE on train data: 15.24%\n",
            "\n",
            "\n",
            "CPU times: user 2 µs, sys: 1e+03 ns, total: 3 µs\n",
            "Wall time: 6.68 µs\n",
            "Accuracy on test data: 75.00%\n",
            "MAE on test data: 34.38%\n",
            "MSE on test data: 19.39%\n",
            "\n",
            "\n"
          ],
          "name": "stdout"
        },
        {
          "output_type": "display_data",
          "data": {
            "image/png": "[encoded data removed]",
            "text/plain": [
              "<Figure size 432x288 with 2 Axes>"
            ]
          },
          "metadata": {
            "tags": []
          }
        }
      ]
    },
    {
      "cell_type": "code",
      "metadata": {
        "id": "Df1HGFA5C19c",
        "colab_type": "code",
        "colab": {}
      },
      "source": [
        "# Save the model in h5 format \n",
        "model.save(\"ex.h5\")"
      ],
      "execution_count": 0,
      "outputs": []
    },
    {
      "cell_type": "markdown",
      "metadata": {
        "colab_type": "text",
        "id": "ioj30pq2gUXx"
      },
      "source": [
        "# **A**"
      ]
    },
    {
      "cell_type": "code",
      "metadata": {
        "colab_type": "code",
        "id": "1f0Zo-3vgUX2",
        "outputId": "ff71bd5d-c941-46c3-943a-526843b9ea4a",
        "colab": {
          "base_uri": "https://localhost:8080/",
          "height": 51
        }
      },
      "source": [
        "ytrain_a = np.asarray(df[\"A_Class\"])\n",
        "encoder = LabelEncoder()\n",
        "encoder.fit(ytrain_a)\n",
        "encoded_Y = encoder.transform(ytrain_a)\n",
        "# convert integers to dummy variables (i.e. one hot encoded)\n",
        "ytrain_a = np_utils.to_categorical(encoded_Y)\n",
        "X_train_a, X_test_a, y_train_a, y_test_a = train_test_split(elmo_train_X, ytrain_a, test_size=0.2,random_state=42)\n",
        "print (X_train_a.shape, y_train_a.shape)\n",
        "print (X_test_a.shape, y_test_a.shape)"
      ],
      "execution_count": 0,
      "outputs": [
        {
          "output_type": "stream",
          "text": [
            "(64, 4495, 1024) (64, 3)\n",
            "(16, 4495, 1024) (16, 3)\n"
          ],
          "name": "stdout"
        }
      ]
    },
    {
      "cell_type": "code",
      "metadata": {
        "colab_type": "code",
        "id": "e2Wib7bkgUX9",
        "outputId": "bffb9056-dcb1-4275-d4c7-1894dddfe96c",
        "colab": {
          "base_uri": "https://localhost:8080/",
          "height": 462
        }
      },
      "source": [
        "history_a = model.fit(X_train_a, y_train_a, epochs=12,validation_data=(X_test_a, y_test_a), batch_size=15)"
      ],
      "execution_count": 0,
      "outputs": [
        {
          "output_type": "stream",
          "text": [
            "Train on 64 samples, validate on 16 samples\n",
            "Epoch 1/12\n",
            "64/64 [==============================] - 236s 4s/sample - loss: 1.2267 - acc: 0.4844 - mean_absolute_error: 0.3811 - mean_squared_error: 0.2169 - val_loss: 1.1712 - val_acc: 0.4375 - val_mean_absolute_error: 0.4125 - val_mean_squared_error: 0.2336\n",
            "Epoch 2/12\n",
            "64/64 [==============================] - 234s 4s/sample - loss: 0.9950 - acc: 0.4844 - mean_absolute_error: 0.3720 - mean_squared_error: 0.1978 - val_loss: 0.9480 - val_acc: 0.3750 - val_mean_absolute_error: 0.3945 - val_mean_squared_error: 0.1945\n",
            "Epoch 3/12\n",
            "64/64 [==============================] - 237s 4s/sample - loss: 0.8557 - acc: 0.5312 - mean_absolute_error: 0.3643 - mean_squared_error: 0.1766 - val_loss: 0.8643 - val_acc: 0.5625 - val_mean_absolute_error: 0.3656 - val_mean_squared_error: 0.1788\n",
            "Epoch 4/12\n",
            "64/64 [==============================] - 235s 4s/sample - loss: 0.7477 - acc: 0.5938 - mean_absolute_error: 0.3210 - mean_squared_error: 0.1580 - val_loss: 0.9043 - val_acc: 0.5625 - val_mean_absolute_error: 0.3336 - val_mean_squared_error: 0.1952\n",
            "Epoch 5/12\n",
            "64/64 [==============================] - 236s 4s/sample - loss: 0.7534 - acc: 0.6094 - mean_absolute_error: 0.3004 - mean_squared_error: 0.1668 - val_loss: 0.9249 - val_acc: 0.5625 - val_mean_absolute_error: 0.3346 - val_mean_squared_error: 0.1943\n",
            "Epoch 6/12\n",
            "64/64 [==============================] - 236s 4s/sample - loss: 0.7061 - acc: 0.6250 - mean_absolute_error: 0.3059 - mean_squared_error: 0.1550 - val_loss: 0.9347 - val_acc: 0.3750 - val_mean_absolute_error: 0.3558 - val_mean_squared_error: 0.1936\n",
            "Epoch 7/12\n",
            "64/64 [==============================] - 236s 4s/sample - loss: 0.6662 - acc: 0.5938 - mean_absolute_error: 0.3025 - mean_squared_error: 0.1465 - val_loss: 0.9819 - val_acc: 0.3750 - val_mean_absolute_error: 0.3593 - val_mean_squared_error: 0.1993\n",
            "Epoch 8/12\n",
            "64/64 [==============================] - 237s 4s/sample - loss: 0.6649 - acc: 0.5625 - mean_absolute_error: 0.3004 - mean_squared_error: 0.1452 - val_loss: 1.0095 - val_acc: 0.3750 - val_mean_absolute_error: 0.3517 - val_mean_squared_error: 0.1996\n",
            "Epoch 9/12\n",
            "64/64 [==============================] - 238s 4s/sample - loss: 0.6608 - acc: 0.5625 - mean_absolute_error: 0.2921 - mean_squared_error: 0.1432 - val_loss: 1.0205 - val_acc: 0.5000 - val_mean_absolute_error: 0.3462 - val_mean_squared_error: 0.1976\n",
            "Epoch 10/12\n",
            "64/64 [==============================] - 237s 4s/sample - loss: 0.6299 - acc: 0.6094 - mean_absolute_error: 0.2840 - mean_squared_error: 0.1374 - val_loss: 1.0236 - val_acc: 0.5000 - val_mean_absolute_error: 0.3482 - val_mean_squared_error: 0.1989\n",
            "Epoch 11/12\n",
            "64/64 [==============================] - 237s 4s/sample - loss: 0.6207 - acc: 0.6562 - mean_absolute_error: 0.2834 - mean_squared_error: 0.1365 - val_loss: 1.0335 - val_acc: 0.5625 - val_mean_absolute_error: 0.3441 - val_mean_squared_error: 0.1986\n",
            "Epoch 12/12\n",
            "64/64 [==============================] - 235s 4s/sample - loss: 0.6303 - acc: 0.6562 - mean_absolute_error: 0.2807 - mean_squared_error: 0.1367 - val_loss: 1.0432 - val_acc: 0.5625 - val_mean_absolute_error: 0.3432 - val_mean_squared_error: 0.1988\n"
          ],
          "name": "stdout"
        }
      ]
    },
    {
      "cell_type": "code",
      "metadata": {
        "colab_type": "code",
        "id": "zw2Q7VdfgUYC",
        "outputId": "9ddae209-a010-4590-be7a-cc51c1dd4d49",
        "colab": {
          "base_uri": "https://localhost:8080/",
          "height": 519
        }
      },
      "source": [
        "# evaluate the model\n",
        "acc_on_train(X_train_a,y_train_a,model)\n",
        "acc_on_test(X_test_a,y_test_a,model)\n",
        "plot_accuracy_loss(history_a)"
      ],
      "execution_count": 0,
      "outputs": [
        {
          "output_type": "stream",
          "text": [
            "CPU times: user 2 µs, sys: 0 ns, total: 2 µs\n",
            "Wall time: 6.2 µs\n",
            "Accuracy on trian data: 62.50%\n",
            "MAE on train data: 28.06%\n",
            "MSE on train data: 13.69%\n",
            "\n",
            "\n",
            "CPU times: user 2 µs, sys: 1e+03 ns, total: 3 µs\n",
            "Wall time: 7.15 µs\n",
            "Accuracy on test data: 56.25%\n",
            "MAE on test data: 34.32%\n",
            "MSE on test data: 19.88%\n",
            "\n",
            "\n"
          ],
          "name": "stdout"
        },
        {
          "output_type": "display_data",
          "data": {
            "image/png": "[encoded data removed]",
            "text/plain": [
              "<Figure size 432x288 with 2 Axes>"
            ]
          },
          "metadata": {
            "tags": []
          }
        }
      ]
    },
    {
      "cell_type": "code",
      "metadata": {
        "id": "Y2ncIgUbC4OQ",
        "colab_type": "code",
        "colab": {}
      },
      "source": [
        "# Save the model in h5 format \n",
        "model.save(\"a.h5\")"
      ],
      "execution_count": 0,
      "outputs": []
    },
    {
      "cell_type": "markdown",
      "metadata": {
        "colab_type": "text",
        "id": "yo_u737Lgx3N"
      },
      "source": [
        "# **C**"
      ]
    },
    {
      "cell_type": "code",
      "metadata": {
        "colab_type": "code",
        "id": "aqSH0Ll-gx3O",
        "outputId": "3aad5e4c-4a05-4d42-99ae-76642cc53a79",
        "colab": {
          "base_uri": "https://localhost:8080/",
          "height": 51
        }
      },
      "source": [
        "ytrain_c = np.asarray(df[\"C_Class\"])\n",
        "encoder = LabelEncoder()\n",
        "encoder.fit(ytrain_c)\n",
        "encoded_Y = encoder.transform(ytrain_c)\n",
        "# convert integers to dummy variables (i.e. one hot encoded)\n",
        "ytrain_c = np_utils.to_categorical(encoded_Y)\n",
        "\n",
        "X_train_c, X_test_c, y_train_c, y_test_c = train_test_split(elmo_train_X, ytrain_c, test_size=0.2,random_state=42)\n",
        "print (X_train_c.shape, y_train_c.shape)\n",
        "print (X_test_c.shape, y_test_c.shape)"
      ],
      "execution_count": 0,
      "outputs": [
        {
          "output_type": "stream",
          "text": [
            "(64, 4495, 1024) (64, 3)\n",
            "(16, 4495, 1024) (16, 3)\n"
          ],
          "name": "stdout"
        }
      ]
    },
    {
      "cell_type": "code",
      "metadata": {
        "colab_type": "code",
        "id": "WTiWkj9Egx3Q",
        "outputId": "12dec0d8-7f45-4ab5-f8ac-200764ac02b3",
        "colab": {
          "base_uri": "https://localhost:8080/",
          "height": 513
        }
      },
      "source": [
        "history_c = model.fit(X_train_c, y_train_c, epochs=12,validation_data=(X_test_c, y_test_c), batch_size=15)"
      ],
      "execution_count": 0,
      "outputs": [
        {
          "output_type": "stream",
          "text": [
            "Train on 64 samples, validate on 16 samples\n"
          ],
          "name": "stdout"
        },
        {
          "output_type": "stream",
          "text": [
            "W0827 14:13:38.726634 140056909944704 deprecation.py:323] From /usr/local/lib/python3.6/dist-packages/tensorflow/python/ops/math_grad.py:1250: add_dispatch_support.<locals>.wrapper (from tensorflow.python.ops.array_ops) is deprecated and will be removed in a future version.\n",
            "Instructions for updating:\n",
            "Use tf.where in 2.0, which has the same broadcast rule as np.where\n"
          ],
          "name": "stderr"
        },
        {
          "output_type": "stream",
          "text": [
            "Epoch 1/12\n",
            "64/64 [==============================] - 235s 4s/sample - loss: 1.0955 - acc: 0.3125 - mean_absolute_error: 0.4437 - mean_squared_error: 0.2215 - val_loss: 1.0765 - val_acc: 0.5625 - val_mean_absolute_error: 0.4394 - val_mean_squared_error: 0.2174\n",
            "Epoch 2/12\n",
            "64/64 [==============================] - 227s 4s/sample - loss: 1.0552 - acc: 0.5938 - mean_absolute_error: 0.4343 - mean_squared_error: 0.2126 - val_loss: 1.0424 - val_acc: 0.5000 - val_mean_absolute_error: 0.4306 - val_mean_squared_error: 0.2107\n",
            "Epoch 3/12\n",
            "64/64 [==============================] - 229s 4s/sample - loss: 0.9912 - acc: 0.5781 - mean_absolute_error: 0.4177 - mean_squared_error: 0.1991 - val_loss: 1.0036 - val_acc: 0.5000 - val_mean_absolute_error: 0.4153 - val_mean_squared_error: 0.2058\n",
            "Epoch 4/12\n",
            "64/64 [==============================] - 226s 4s/sample - loss: 0.8816 - acc: 0.5938 - mean_absolute_error: 0.3830 - mean_squared_error: 0.1773 - val_loss: 0.9822 - val_acc: 0.5000 - val_mean_absolute_error: 0.3871 - val_mean_squared_error: 0.2040\n",
            "Epoch 5/12\n",
            "64/64 [==============================] - 229s 4s/sample - loss: 0.8146 - acc: 0.6094 - mean_absolute_error: 0.3416 - mean_squared_error: 0.1672 - val_loss: 1.0260 - val_acc: 0.5000 - val_mean_absolute_error: 0.3589 - val_mean_squared_error: 0.2078\n",
            "Epoch 6/12\n",
            "64/64 [==============================] - 229s 4s/sample - loss: 0.7591 - acc: 0.6250 - mean_absolute_error: 0.3095 - mean_squared_error: 0.1556 - val_loss: 0.8383 - val_acc: 0.6250 - val_mean_absolute_error: 0.3346 - val_mean_squared_error: 0.1655\n",
            "Epoch 7/12\n",
            "64/64 [==============================] - 229s 4s/sample - loss: 0.7910 - acc: 0.5469 - mean_absolute_error: 0.3239 - mean_squared_error: 0.1605 - val_loss: 0.9665 - val_acc: 0.4375 - val_mean_absolute_error: 0.3556 - val_mean_squared_error: 0.1873\n",
            "Epoch 8/12\n",
            "64/64 [==============================] - 232s 4s/sample - loss: 0.7270 - acc: 0.4844 - mean_absolute_error: 0.3072 - mean_squared_error: 0.1512 - val_loss: 1.3056 - val_acc: 0.5625 - val_mean_absolute_error: 0.3801 - val_mean_squared_error: 0.2414\n",
            "Epoch 9/12\n",
            "64/64 [==============================] - 231s 4s/sample - loss: 0.7098 - acc: 0.6562 - mean_absolute_error: 0.2931 - mean_squared_error: 0.1485 - val_loss: 1.5900 - val_acc: 0.5625 - val_mean_absolute_error: 0.3777 - val_mean_squared_error: 0.2562\n",
            "Epoch 10/12\n",
            "64/64 [==============================] - 231s 4s/sample - loss: 0.6902 - acc: 0.6562 - mean_absolute_error: 0.2874 - mean_squared_error: 0.1409 - val_loss: 1.4055 - val_acc: 0.5625 - val_mean_absolute_error: 0.3836 - val_mean_squared_error: 0.2451\n",
            "Epoch 11/12\n",
            "64/64 [==============================] - 231s 4s/sample - loss: 0.6721 - acc: 0.6562 - mean_absolute_error: 0.2896 - mean_squared_error: 0.1375 - val_loss: 0.9820 - val_acc: 0.6875 - val_mean_absolute_error: 0.3231 - val_mean_squared_error: 0.1716\n",
            "Epoch 12/12\n",
            "64/64 [==============================] - 231s 4s/sample - loss: 0.6808 - acc: 0.6562 - mean_absolute_error: 0.2896 - mean_squared_error: 0.1400 - val_loss: 1.1554 - val_acc: 0.6250 - val_mean_absolute_error: 0.3467 - val_mean_squared_error: 0.2149\n"
          ],
          "name": "stdout"
        }
      ]
    },
    {
      "cell_type": "code",
      "metadata": {
        "colab_type": "code",
        "id": "5YpQs7lUgx3S",
        "outputId": "2a8ab533-d2cf-46d9-c573-df3e21da14ba",
        "colab": {
          "base_uri": "https://localhost:8080/",
          "height": 519
        }
      },
      "source": [
        "# evaluate the model\n",
        "acc_on_train(X_train_c,y_train_c,model)\n",
        "acc_on_test(X_test_c,y_test_c,model)\n",
        "plot_accuracy_loss(history_c)"
      ],
      "execution_count": 0,
      "outputs": [
        {
          "output_type": "stream",
          "text": [
            "CPU times: user 3 µs, sys: 0 ns, total: 3 µs\n",
            "Wall time: 6.68 µs\n",
            "Accuracy on trian data: 65.62%\n",
            "MAE on train data: 28.77%\n",
            "MSE on train data: 13.94%\n",
            "\n",
            "\n",
            "CPU times: user 3 µs, sys: 1e+03 ns, total: 4 µs\n",
            "Wall time: 6.44 µs\n",
            "Accuracy on test data: 62.50%\n",
            "MAE on test data: 34.67%\n",
            "MSE on test data: 21.49%\n",
            "\n",
            "\n"
          ],
          "name": "stdout"
        },
        {
          "output_type": "display_data",
          "data": {
            "image/png": "[encoded data removed]",
            "text/plain": [
              "<Figure size 432x288 with 2 Axes>"
            ]
          },
          "metadata": {
            "tags": []
          }
        }
      ]
    },
    {
      "cell_type": "code",
      "metadata": {
        "id": "pezonGsFC9IP",
        "colab_type": "code",
        "colab": {}
      },
      "source": [
        "# Save the model in h5 format \n",
        "model.save(\"c.h5\")"
      ],
      "execution_count": 0,
      "outputs": []
    },
    {
      "cell_type": "markdown",
      "metadata": {
        "colab_type": "text",
        "id": "3lnerwR1haHk"
      },
      "source": [
        "# **E**"
      ]
    },
    {
      "cell_type": "code",
      "metadata": {
        "colab_type": "code",
        "id": "Q3JT8ToNhaHr",
        "outputId": "6ed65c3e-ceaf-4c4b-be28-4bd049469d6d",
        "colab": {
          "base_uri": "https://localhost:8080/",
          "height": 51
        }
      },
      "source": [
        "ytrain_e = np.asarray(df[\"E_Class\"])\n",
        "encoder = LabelEncoder()\n",
        "encoder.fit(ytrain_e)\n",
        "encoded_Y = encoder.transform(ytrain_e)\n",
        "# convert integers to dummy variables (i.e. one hot encoded)\n",
        "ytrain_e = np_utils.to_categorical(encoded_Y)\n",
        "X_train_e, X_test_e, y_train_e, y_test_e = train_test_split(elmo_train_X, ytrain_e, test_size=0.2,random_state=42)\n",
        "print (X_train_e.shape, y_train_e.shape)\n",
        "print (X_test_e.shape, y_test_e.shape)"
      ],
      "execution_count": 0,
      "outputs": [
        {
          "output_type": "stream",
          "text": [
            "(64, 4495, 1024) (64, 3)\n",
            "(16, 4495, 1024) (16, 3)\n"
          ],
          "name": "stdout"
        }
      ]
    },
    {
      "cell_type": "code",
      "metadata": {
        "colab_type": "code",
        "id": "MeRMkAvqhaH0",
        "outputId": "68008d74-3a19-4504-c501-db6ec092982c",
        "colab": {
          "base_uri": "https://localhost:8080/",
          "height": 462
        }
      },
      "source": [
        "history_e = model.fit(X_train_e, y_train_e, epochs=12,validation_data=(X_test_e, y_test_e), batch_size=15)"
      ],
      "execution_count": 0,
      "outputs": [
        {
          "output_type": "stream",
          "text": [
            "Train on 64 samples, validate on 16 samples\n",
            "Epoch 1/12\n",
            "64/64 [==============================] - 228s 4s/sample - loss: 1.7091 - acc: 0.5156 - mean_absolute_error: 0.4265 - mean_squared_error: 0.2753 - val_loss: 1.5417 - val_acc: 0.3750 - val_mean_absolute_error: 0.4259 - val_mean_squared_error: 0.2827\n",
            "Epoch 2/12\n",
            "64/64 [==============================] - 226s 4s/sample - loss: 1.4137 - acc: 0.4688 - mean_absolute_error: 0.4401 - mean_squared_error: 0.2722 - val_loss: 1.2442 - val_acc: 0.4375 - val_mean_absolute_error: 0.4180 - val_mean_squared_error: 0.2493\n",
            "Epoch 3/12\n",
            "64/64 [==============================] - 226s 4s/sample - loss: 1.0481 - acc: 0.5625 - mean_absolute_error: 0.3903 - mean_squared_error: 0.2075 - val_loss: 1.0949 - val_acc: 0.4375 - val_mean_absolute_error: 0.4202 - val_mean_squared_error: 0.2202\n",
            "Epoch 4/12\n",
            "64/64 [==============================] - 229s 4s/sample - loss: 0.9790 - acc: 0.5625 - mean_absolute_error: 0.3862 - mean_squared_error: 0.1943 - val_loss: 1.0717 - val_acc: 0.5000 - val_mean_absolute_error: 0.4255 - val_mean_squared_error: 0.2165\n",
            "Epoch 5/12\n",
            "64/64 [==============================] - 227s 4s/sample - loss: 0.9327 - acc: 0.5781 - mean_absolute_error: 0.3795 - mean_squared_error: 0.1848 - val_loss: 1.0857 - val_acc: 0.3125 - val_mean_absolute_error: 0.4274 - val_mean_squared_error: 0.2207\n",
            "Epoch 6/12\n",
            "64/64 [==============================] - 226s 4s/sample - loss: 0.8970 - acc: 0.6406 - mean_absolute_error: 0.3648 - mean_squared_error: 0.1763 - val_loss: 1.1048 - val_acc: 0.3750 - val_mean_absolute_error: 0.4232 - val_mean_squared_error: 0.2247\n",
            "Epoch 7/12\n",
            "64/64 [==============================] - 223s 3s/sample - loss: 0.8761 - acc: 0.6250 - mean_absolute_error: 0.3502 - mean_squared_error: 0.1718 - val_loss: 1.1263 - val_acc: 0.5000 - val_mean_absolute_error: 0.4156 - val_mean_squared_error: 0.2273\n",
            "Epoch 8/12\n",
            "64/64 [==============================] - 225s 4s/sample - loss: 0.8488 - acc: 0.6406 - mean_absolute_error: 0.3313 - mean_squared_error: 0.1656 - val_loss: 1.1434 - val_acc: 0.4375 - val_mean_absolute_error: 0.4104 - val_mean_squared_error: 0.2293\n",
            "Epoch 9/12\n",
            "64/64 [==============================] - 232s 4s/sample - loss: 0.8381 - acc: 0.6719 - mean_absolute_error: 0.3222 - mean_squared_error: 0.1640 - val_loss: 1.1675 - val_acc: 0.4375 - val_mean_absolute_error: 0.4075 - val_mean_squared_error: 0.2339\n",
            "Epoch 10/12\n",
            "64/64 [==============================] - 226s 4s/sample - loss: 0.8369 - acc: 0.6719 - mean_absolute_error: 0.3244 - mean_squared_error: 0.1638 - val_loss: 1.1362 - val_acc: 0.4375 - val_mean_absolute_error: 0.4088 - val_mean_squared_error: 0.2264\n",
            "Epoch 11/12\n",
            "64/64 [==============================] - 231s 4s/sample - loss: 0.8140 - acc: 0.6719 - mean_absolute_error: 0.3269 - mean_squared_error: 0.1589 - val_loss: 1.1232 - val_acc: 0.4375 - val_mean_absolute_error: 0.4075 - val_mean_squared_error: 0.2234\n",
            "Epoch 12/12\n",
            "64/64 [==============================] - 228s 4s/sample - loss: 0.7971 - acc: 0.6719 - mean_absolute_error: 0.3253 - mean_squared_error: 0.1547 - val_loss: 1.1204 - val_acc: 0.4375 - val_mean_absolute_error: 0.4058 - val_mean_squared_error: 0.2236\n"
          ],
          "name": "stdout"
        }
      ]
    },
    {
      "cell_type": "code",
      "metadata": {
        "colab_type": "code",
        "id": "1UNubZMBhaH7",
        "outputId": "f9c93667-71e8-4af6-ff54-7f270ed4d9dc",
        "colab": {
          "base_uri": "https://localhost:8080/",
          "height": 519
        }
      },
      "source": [
        "# evaluate the model\n",
        "acc_on_train(X_train_e,y_train_e,model)\n",
        "acc_on_test(X_test_e,y_test_e,model)\n",
        "plot_accuracy_loss(history_e)"
      ],
      "execution_count": 0,
      "outputs": [
        {
          "output_type": "stream",
          "text": [
            "CPU times: user 3 µs, sys: 1 µs, total: 4 µs\n",
            "Wall time: 18.6 µs\n",
            "Accuracy on trian data: 67.19%\n",
            "MAE on train data: 32.30%\n",
            "MSE on train data: 15.37%\n",
            "\n",
            "\n",
            "CPU times: user 3 µs, sys: 1 µs, total: 4 µs\n",
            "Wall time: 7.63 µs\n",
            "Accuracy on test data: 43.75%\n",
            "MAE on test data: 40.58%\n",
            "MSE on test data: 22.36%\n",
            "\n",
            "\n"
          ],
          "name": "stdout"
        },
        {
          "output_type": "display_data",
          "data": {
            "image/png": "[encoded data removed]",
            "text/plain": [
              "<Figure size 432x288 with 2 Axes>"
            ]
          },
          "metadata": {
            "tags": []
          }
        }
      ]
    },
    {
      "cell_type": "code",
      "metadata": {
        "id": "Go0MQGt0DCeX",
        "colab_type": "code",
        "colab": {}
      },
      "source": [
        "# Save the model in h5 format \n",
        "model.save(\"e.h5\")"
      ],
      "execution_count": 0,
      "outputs": []
    },
    {
      "cell_type": "markdown",
      "metadata": {
        "colab_type": "text",
        "id": "VIwJYVlLh36d"
      },
      "source": [
        "# **O**"
      ]
    },
    {
      "cell_type": "code",
      "metadata": {
        "colab_type": "code",
        "id": "vcgXE_QGh36h",
        "outputId": "b7f8d416-e793-460f-facc-2f0f89f82e14",
        "colab": {
          "base_uri": "https://localhost:8080/",
          "height": 51
        }
      },
      "source": [
        "ytrain_o = np.asarray(df[\"O_Class\"])\n",
        "encoder = LabelEncoder()\n",
        "encoder.fit(ytrain_o)\n",
        "encoded_Y = encoder.transform(ytrain_o)\n",
        "# convert integers to dummy variables (i.e. one hot encoded)\n",
        "ytrain_o = np_utils.to_categorical(encoded_Y)\n",
        "X_train_o, X_test_o, y_train_o, y_test_o = train_test_split(elmo_train_X, ytrain_o, test_size=0.2,random_state=42)\n",
        "print (X_train_o.shape, y_train_o.shape)\n",
        "print (X_test_o.shape, y_test_o.shape)"
      ],
      "execution_count": 0,
      "outputs": [
        {
          "output_type": "stream",
          "text": [
            "(64, 4495, 1024) (64, 3)\n",
            "(16, 4495, 1024) (16, 3)\n"
          ],
          "name": "stdout"
        }
      ]
    },
    {
      "cell_type": "code",
      "metadata": {
        "colab_type": "code",
        "id": "spKZjfOkh36o",
        "outputId": "435ba765-db59-4a84-c092-1031447f4000",
        "colab": {
          "base_uri": "https://localhost:8080/",
          "height": 462
        }
      },
      "source": [
        "history_o = model.fit(X_train_o, y_train_o, epochs=12,validation_data=(X_test_o, y_test_o), batch_size=15)"
      ],
      "execution_count": 0,
      "outputs": [
        {
          "output_type": "stream",
          "text": [
            "Train on 64 samples, validate on 16 samples\n",
            "Epoch 1/12\n",
            "64/64 [==============================] - 231s 4s/sample - loss: 0.8641 - acc: 0.7344 - mean_absolute_error: 0.3286 - mean_squared_error: 0.1619 - val_loss: 0.5608 - val_acc: 0.8750 - val_mean_absolute_error: 0.2680 - val_mean_squared_error: 0.0994\n",
            "Epoch 2/12\n",
            "64/64 [==============================] - 231s 4s/sample - loss: 0.7773 - acc: 0.7344 - mean_absolute_error: 0.2971 - mean_squared_error: 0.1480 - val_loss: 0.4674 - val_acc: 0.8750 - val_mean_absolute_error: 0.2152 - val_mean_squared_error: 0.0805\n",
            "Epoch 3/12\n",
            "64/64 [==============================] - 224s 4s/sample - loss: 0.6171 - acc: 0.7969 - mean_absolute_error: 0.2439 - mean_squared_error: 0.1165 - val_loss: 0.4181 - val_acc: 0.8750 - val_mean_absolute_error: 0.1813 - val_mean_squared_error: 0.0743\n",
            "Epoch 4/12\n",
            "64/64 [==============================] - 224s 3s/sample - loss: 0.5388 - acc: 0.8125 - mean_absolute_error: 0.2011 - mean_squared_error: 0.1038 - val_loss: 0.4004 - val_acc: 0.8750 - val_mean_absolute_error: 0.1690 - val_mean_squared_error: 0.0741\n",
            "Epoch 5/12\n",
            "64/64 [==============================] - 223s 3s/sample - loss: 0.5206 - acc: 0.8125 - mean_absolute_error: 0.1923 - mean_squared_error: 0.1016 - val_loss: 0.3928 - val_acc: 0.8750 - val_mean_absolute_error: 0.1657 - val_mean_squared_error: 0.0742\n",
            "Epoch 6/12\n",
            "64/64 [==============================] - 225s 4s/sample - loss: 0.5402 - acc: 0.8125 - mean_absolute_error: 0.1920 - mean_squared_error: 0.1046 - val_loss: 0.4174 - val_acc: 0.8750 - val_mean_absolute_error: 0.1765 - val_mean_squared_error: 0.0783\n",
            "Epoch 7/12\n",
            "64/64 [==============================] - 224s 4s/sample - loss: 0.5274 - acc: 0.8125 - mean_absolute_error: 0.2115 - mean_squared_error: 0.1040 - val_loss: 0.4730 - val_acc: 0.8750 - val_mean_absolute_error: 0.2171 - val_mean_squared_error: 0.0928\n",
            "Epoch 8/12\n",
            "64/64 [==============================] - 225s 4s/sample - loss: 0.5040 - acc: 0.7969 - mean_absolute_error: 0.2252 - mean_squared_error: 0.1006 - val_loss: 0.4476 - val_acc: 0.8750 - val_mean_absolute_error: 0.2226 - val_mean_squared_error: 0.0887\n",
            "Epoch 9/12\n",
            "64/64 [==============================] - 231s 4s/sample - loss: 0.5080 - acc: 0.8281 - mean_absolute_error: 0.2106 - mean_squared_error: 0.0993 - val_loss: 0.3946 - val_acc: 0.8750 - val_mean_absolute_error: 0.1779 - val_mean_squared_error: 0.0758\n",
            "Epoch 10/12\n",
            "64/64 [==============================] - 225s 4s/sample - loss: 0.5254 - acc: 0.8125 - mean_absolute_error: 0.1803 - mean_squared_error: 0.1021 - val_loss: 0.3900 - val_acc: 0.8750 - val_mean_absolute_error: 0.1676 - val_mean_squared_error: 0.0744\n",
            "Epoch 11/12\n",
            "64/64 [==============================] - 226s 4s/sample - loss: 0.4972 - acc: 0.8125 - mean_absolute_error: 0.1756 - mean_squared_error: 0.0967 - val_loss: 0.4032 - val_acc: 0.8750 - val_mean_absolute_error: 0.1830 - val_mean_squared_error: 0.0765\n",
            "Epoch 12/12\n",
            "64/64 [==============================] - 225s 4s/sample - loss: 0.4933 - acc: 0.8125 - mean_absolute_error: 0.1875 - mean_squared_error: 0.0963 - val_loss: 0.4049 - val_acc: 0.8750 - val_mean_absolute_error: 0.1835 - val_mean_squared_error: 0.0766\n"
          ],
          "name": "stdout"
        }
      ]
    },
    {
      "cell_type": "code",
      "metadata": {
        "colab_type": "code",
        "id": "v-3P9b38h36t",
        "outputId": "c491514c-9c9b-4e99-ef17-3a78e0f06eb4",
        "colab": {
          "base_uri": "https://localhost:8080/",
          "height": 519
        }
      },
      "source": [
        "# evaluate the model\n",
        "acc_on_train(X_train_o,y_train_o,model)\n",
        "acc_on_test(X_test_o,y_test_o,model)\n",
        "plot_accuracy_loss(history_o)"
      ],
      "execution_count": 0,
      "outputs": [
        {
          "output_type": "stream",
          "text": [
            "CPU times: user 18 µs, sys: 4 µs, total: 22 µs\n",
            "Wall time: 30.5 µs\n",
            "Accuracy on trian data: 81.25%\n",
            "MAE on train data: 18.19%\n",
            "MSE on train data: 9.16%\n",
            "\n",
            "\n",
            "CPU times: user 4 µs, sys: 0 ns, total: 4 µs\n",
            "Wall time: 7.39 µs\n",
            "Accuracy on test data: 87.50%\n",
            "MAE on test data: 18.35%\n",
            "MSE on test data: 7.66%\n",
            "\n",
            "\n"
          ],
          "name": "stdout"
        },
        {
          "output_type": "display_data",
          "data": {
            "image/png": "[encoded data removed]",
            "text/plain": [
              "<Figure size 432x288 with 2 Axes>"
            ]
          },
          "metadata": {
            "tags": []
          }
        }
      ]
    },
    {
      "cell_type": "code",
      "metadata": {
        "id": "wZi5RSBtDGxK",
        "colab_type": "code",
        "colab": {}
      },
      "source": [
        "# Save the model in h5 format \n",
        "model.save(\"o.h5\")"
      ],
      "execution_count": 0,
      "outputs": []
    }
  ]
}
